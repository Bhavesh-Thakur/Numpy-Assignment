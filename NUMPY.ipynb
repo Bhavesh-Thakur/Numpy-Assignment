{
  "nbformat": 4,
  "nbformat_minor": 0,
  "metadata": {
    "colab": {
      "provenance": []
    },
    "kernelspec": {
      "name": "python3",
      "display_name": "Python 3"
    },
    "language_info": {
      "name": "python"
    }
  },
  "cells": [
    {
      "cell_type": "markdown",
      "source": [
        "# 1. Create a NumPy array 'arr' of integers from 0 to 5 and print its data type."
      ],
      "metadata": {
        "id": "WLeK156ys-FB"
      }
    },
    {
      "cell_type": "code",
      "execution_count": null,
      "metadata": {
        "colab": {
          "base_uri": "https://localhost:8080/"
        },
        "id": "tikZVNiTs1ji",
        "outputId": "47469154-ee68-4b76-d654-3b4f5c53ae7f"
      },
      "outputs": [
        {
          "output_type": "stream",
          "name": "stdout",
          "text": [
            "[0 1 2 3 4 5]\n",
            "int64\n"
          ]
        }
      ],
      "source": [
        "import numpy as np\n",
        "\n",
        "arr = np.arange(6)\n",
        "print(arr)\n",
        "print(arr.dtype)\n"
      ]
    },
    {
      "cell_type": "markdown",
      "source": [
        "# 2.  Given a NumPy array 'arr', check if its data type is float64.\n",
        "arr = np.array([1.5, 2.6, 3.7]"
      ],
      "metadata": {
        "id": "P-BpwwOItXvW"
      }
    },
    {
      "cell_type": "code",
      "source": [
        "arr = np.array([1.5, 2.6, 3.7])\n",
        "\n",
        "is_float64 = arr.dtype == np.float64\n",
        "print(is_float64)\n"
      ],
      "metadata": {
        "colab": {
          "base_uri": "https://localhost:8080/"
        },
        "id": "16_WA6bTtWrd",
        "outputId": "dbd71983-8517-4c03-eb3d-680fded7d96c"
      },
      "execution_count": null,
      "outputs": [
        {
          "output_type": "stream",
          "name": "stdout",
          "text": [
            "True\n"
          ]
        }
      ]
    },
    {
      "cell_type": "markdown",
      "source": [
        "# 3. Create a NumPy array 'arr' with a data type of complex128 containing three complex numbers."
      ],
      "metadata": {
        "id": "UuM-YG8uuQIq"
      }
    },
    {
      "cell_type": "code",
      "source": [
        "arr = np.array([1+2j, 3+4j, 5+6j], dtype=np.complex128)\n",
        "print(arr)\n",
        "print(arr.dtype)\n"
      ],
      "metadata": {
        "colab": {
          "base_uri": "https://localhost:8080/"
        },
        "id": "zqQg54jJuPaB",
        "outputId": "aca1d35e-4955-4e2a-8f49-7791f073c5e9"
      },
      "execution_count": null,
      "outputs": [
        {
          "output_type": "stream",
          "name": "stdout",
          "text": [
            "[1.+2.j 3.+4.j 5.+6.j]\n",
            "complex128\n"
          ]
        }
      ]
    },
    {
      "cell_type": "markdown",
      "source": [
        "# 4. Convert an existing NumPy array 'arr' of integers to float32 data type."
      ],
      "metadata": {
        "id": "-NYDAWjUuru5"
      }
    },
    {
      "cell_type": "code",
      "source": [
        "arr = np.arange(6)\n",
        "print(arr)\n",
        "print(arr.dtype)\n"
      ],
      "metadata": {
        "colab": {
          "base_uri": "https://localhost:8080/"
        },
        "id": "Tl4qDCRlvh14",
        "outputId": "359e7dae-fd3c-4f79-a0ef-0205a009edc4"
      },
      "execution_count": null,
      "outputs": [
        {
          "output_type": "stream",
          "name": "stdout",
          "text": [
            "[0 1 2 3 4 5]\n",
            "int64\n"
          ]
        }
      ]
    },
    {
      "cell_type": "code",
      "source": [
        "arr = arr.astype(np.float32)\n",
        "print(arr)\n",
        "print(arr.dtype)\n"
      ],
      "metadata": {
        "colab": {
          "base_uri": "https://localhost:8080/"
        },
        "id": "WwQtiAguunK_",
        "outputId": "9ad3c999-ad27-4a79-eb09-34f1d960b0ef"
      },
      "execution_count": null,
      "outputs": [
        {
          "output_type": "stream",
          "name": "stdout",
          "text": [
            "[0. 1. 2. 3. 4. 5.]\n",
            "float32\n"
          ]
        }
      ]
    },
    {
      "cell_type": "markdown",
      "source": [
        "# 5. Given a NumPy array 'arr' with float64 data type, convert it to float32 to reduce decimal precision."
      ],
      "metadata": {
        "id": "SaGk6ptpvo8k"
      }
    },
    {
      "cell_type": "code",
      "source": [
        "arr = np.array([1.123456789, 2.987654321, 3.456789123], dtype=np.float64)\n",
        "print(arr)\n",
        "print(arr.dtype)"
      ],
      "metadata": {
        "colab": {
          "base_uri": "https://localhost:8080/"
        },
        "id": "_ttMep32wrcX",
        "outputId": "229ec37d-470c-489a-bd1c-0ccc820c267b"
      },
      "execution_count": null,
      "outputs": [
        {
          "output_type": "stream",
          "name": "stdout",
          "text": [
            "[1.12345679 2.98765432 3.45678912]\n",
            "float64\n"
          ]
        }
      ]
    },
    {
      "cell_type": "code",
      "source": [
        "arr = arr.astype(np.float32)\n",
        "print(arr)\n",
        "print(arr.dtype)"
      ],
      "metadata": {
        "colab": {
          "base_uri": "https://localhost:8080/"
        },
        "id": "6w5Oz4GWvMnK",
        "outputId": "cd3ede5e-dcdc-4108-c7e0-9a06afc1c48c"
      },
      "execution_count": null,
      "outputs": [
        {
          "output_type": "stream",
          "name": "stdout",
          "text": [
            "[1.1234568 2.9876542 3.456789 ]\n",
            "float32\n"
          ]
        }
      ]
    },
    {
      "cell_type": "markdown",
      "source": [
        "# 6. Write a function array_attributes that takes a NumPy array as input and returns its shape, size, and datatype."
      ],
      "metadata": {
        "id": "yWWOlym4xR1V"
      }
    },
    {
      "cell_type": "code",
      "source": [
        "def array_attributes(arr):\n",
        "    return arr.shape, arr.size, arr.dtype\n",
        "\n",
        "arr = np.array([1, 2, 3, 4])\n",
        "shape, size, dtype = array_attributes(arr)\n",
        "print(f\"Shape: {shape}\")\n",
        "print(f\"Size: {size}\")\n",
        "print(f\"Data Type: {dtype}\")\n",
        "\n"
      ],
      "metadata": {
        "colab": {
          "base_uri": "https://localhost:8080/"
        },
        "id": "8hbMkyr0wh5W",
        "outputId": "f4a57cf9-eea2-4ef7-d557-8ade11a0299b"
      },
      "execution_count": null,
      "outputs": [
        {
          "output_type": "stream",
          "name": "stdout",
          "text": [
            "Shape: (4,)\n",
            "Size: 4\n",
            "Data Type: int64\n"
          ]
        }
      ]
    },
    {
      "cell_type": "markdown",
      "source": [
        "# 7. Create a function array_dimension that takes a NumPy array as input and returns its dimensionality."
      ],
      "metadata": {
        "id": "-vYHjVRDyzKB"
      }
    },
    {
      "cell_type": "code",
      "source": [
        "def array_dimension(arr):\n",
        "    return arr.ndim\n",
        "\n",
        "arr = np.array([[1, 2, 3], [4, 5, 6]])\n",
        "dimension = array_dimension(arr)\n",
        "print(f\"Dimensionality: {dimension}\")\n"
      ],
      "metadata": {
        "colab": {
          "base_uri": "https://localhost:8080/"
        },
        "id": "Yjtz1WAZyB-X",
        "outputId": "6334322d-a4ff-4f12-ee66-aefdb3bf5cea"
      },
      "execution_count": null,
      "outputs": [
        {
          "output_type": "stream",
          "name": "stdout",
          "text": [
            "Dimensionality: 2\n"
          ]
        }
      ]
    },
    {
      "cell_type": "markdown",
      "source": [],
      "metadata": {
        "id": "yYKeAmEW0EXz"
      }
    },
    {
      "cell_type": "markdown",
      "source": [
        "# 8. Design a function item_size_info that takes a NumPy array as input and returns the item size and the total size in bytes."
      ],
      "metadata": {
        "id": "b2Oc8qMwzyge"
      }
    },
    {
      "cell_type": "code",
      "source": [
        "def item_size_info(arr):\n",
        "    item_size = arr.itemsize\n",
        "    total_size = arr.nbytes\n",
        "    return item_size, total_size\n",
        "\n",
        "arr = np.array([1, 2, 3, 4], dtype=np.int32)\n",
        "item_size, total_size = item_size_info(arr)\n",
        "print(f\"Item Size: {item_size} bytes\")\n",
        "print(f\"Total Size: {total_size} bytes\")\n"
      ],
      "metadata": {
        "colab": {
          "base_uri": "https://localhost:8080/"
        },
        "id": "iN7aJfSszvY2",
        "outputId": "bf999f02-41f9-443c-c2a9-85d67247677f"
      },
      "execution_count": null,
      "outputs": [
        {
          "output_type": "stream",
          "name": "stdout",
          "text": [
            "Item Size: 4 bytes\n",
            "Total Size: 16 bytes\n"
          ]
        }
      ]
    },
    {
      "cell_type": "markdown",
      "source": [
        "# 9. Create a function array_strides that takes a NumPy array as input and returns the strides of the array"
      ],
      "metadata": {
        "id": "5K9nMeZF04tI"
      }
    },
    {
      "cell_type": "code",
      "source": [
        "def array_strides(arr):\n",
        "    return arr.strides\n",
        "\n",
        "arr = np.array([[1, 2, 3], [4, 5, 6]])\n",
        "strides = array_strides(arr)  # The strides  gives the number of bytes to step in each dimension when traversing an array.\n",
        "print(f\"Strides: {strides}\")\n"
      ],
      "metadata": {
        "colab": {
          "base_uri": "https://localhost:8080/"
        },
        "id": "o4bkvZdt0uBY",
        "outputId": "c70d7902-a5b2-437b-9f74-4b6460ecea7c"
      },
      "execution_count": null,
      "outputs": [
        {
          "output_type": "stream",
          "name": "stdout",
          "text": [
            "Strides: (24, 8)\n"
          ]
        }
      ]
    },
    {
      "cell_type": "markdown",
      "source": [
        "# 10. Design a function shape_stride_relationship that takes a NumPy array as input and returns the shape and strides of the array."
      ],
      "metadata": {
        "id": "5tQO7O-v1v3U"
      }
    },
    {
      "cell_type": "code",
      "source": [
        "def shape_stride_relationship(arr):\n",
        "    return arr.shape, arr.strides\n",
        "\n",
        "arr = np.array([[1, 2, 3], [4, 5, 6]])\n",
        "shape, strides = shape_stride_relationship(arr)\n",
        "print(f\"Shape: {shape}\")\n",
        "print(f\"Strides: {strides}\")"
      ],
      "metadata": {
        "colab": {
          "base_uri": "https://localhost:8080/"
        },
        "id": "v5E9IV-V1Ra2",
        "outputId": "3604ce8f-dc7f-43cc-fee2-92cd3a8fef00"
      },
      "execution_count": null,
      "outputs": [
        {
          "output_type": "stream",
          "name": "stdout",
          "text": [
            "Shape: (2, 3)\n",
            "Strides: (24, 8)\n"
          ]
        }
      ]
    },
    {
      "cell_type": "markdown",
      "source": [
        "# 11. Create a function `create_zeros_array` that takes an integer `n` as input and returns a NumPy array of zeros with `n` elements."
      ],
      "metadata": {
        "id": "LtY6JbAz23uv"
      }
    },
    {
      "cell_type": "code",
      "source": [
        "def create_zeros_array(n):\n",
        "    return np.zeros(n)\n",
        "\n",
        "arr = create_zeros_array(5)\n",
        "print(arr)\n",
        "\n"
      ],
      "metadata": {
        "colab": {
          "base_uri": "https://localhost:8080/"
        },
        "id": "_yIVcnGO2AAh",
        "outputId": "7907e6c9-faa3-4a7a-f5d6-5da33ac4b681"
      },
      "execution_count": null,
      "outputs": [
        {
          "output_type": "stream",
          "name": "stdout",
          "text": [
            "[0. 0. 0. 0. 0.]\n"
          ]
        }
      ]
    },
    {
      "cell_type": "markdown",
      "source": [
        "# 12. Write a function `create_ones_matrix` that takes integers `rows` and `cols` as inputs and generates a 2D NumPy array filled with ones of size `rows x cols`."
      ],
      "metadata": {
        "id": "eEs0qp0S3Hpy"
      }
    },
    {
      "cell_type": "code",
      "source": [
        "def create_ones_matrix(rows, cols):\n",
        "    return np.ones((rows, cols))\n",
        "\n",
        "matrix = create_ones_matrix(3, 4)\n",
        "print(matrix)\n"
      ],
      "metadata": {
        "colab": {
          "base_uri": "https://localhost:8080/"
        },
        "id": "nxIOyAp02_YZ",
        "outputId": "015bae19-597e-4df6-e10b-1613186559af"
      },
      "execution_count": null,
      "outputs": [
        {
          "output_type": "stream",
          "name": "stdout",
          "text": [
            "[[1. 1. 1. 1.]\n",
            " [1. 1. 1. 1.]\n",
            " [1. 1. 1. 1.]]\n"
          ]
        }
      ]
    },
    {
      "cell_type": "markdown",
      "source": [
        "# 13. Write a function `generate_range_array` that takes three integers start, stop, and step as arguments and creates a NumPy array with a range starting from `start`, ending at stop (exclusive), and with the specified\n",
        "`step`."
      ],
      "metadata": {
        "id": "UszF_Q5s31d0"
      }
    },
    {
      "cell_type": "code",
      "source": [
        "def generate_range_array(start, stop, step):\n",
        "    return np.arange(start, stop, step)\n",
        "\n",
        "arr = generate_range_array(1, 10, 2)\n",
        "print(arr)\n"
      ],
      "metadata": {
        "colab": {
          "base_uri": "https://localhost:8080/"
        },
        "id": "V-o7I1ZE3vM5",
        "outputId": "fbf30782-f257-4b77-d024-675f6a1c7cd2"
      },
      "execution_count": null,
      "outputs": [
        {
          "output_type": "stream",
          "name": "stdout",
          "text": [
            "[1 3 5 7 9]\n"
          ]
        }
      ]
    },
    {
      "cell_type": "markdown",
      "source": [
        "# 14. Design a function `generate_linear_space` that takes two floats `start`, `stop`, and an integer `num` as arguments and generates a NumPy array with num equally spaced values between `start` and `stop` (inclusive)."
      ],
      "metadata": {
        "id": "5x5ILxFh4G65"
      }
    },
    {
      "cell_type": "code",
      "source": [
        "def generate_linear_space(start, stop, num):\n",
        "    return np.linspace(start, stop, num)\n",
        "\n",
        "arr = generate_linear_space(0.0, 1.0, 5)\n",
        "print(arr)\n"
      ],
      "metadata": {
        "colab": {
          "base_uri": "https://localhost:8080/"
        },
        "id": "BRrg9moo4Fwp",
        "outputId": "08d2086d-fd88-470a-e31a-3b54274b7927"
      },
      "execution_count": null,
      "outputs": [
        {
          "output_type": "stream",
          "name": "stdout",
          "text": [
            "[0.   0.25 0.5  0.75 1.  ]\n"
          ]
        }
      ]
    },
    {
      "cell_type": "markdown",
      "source": [
        "# 15. Create a function `create_identity_matrix` that takes an integer `n` as input and generates a square identity matrix of size `n x n` using `numpy.eye`."
      ],
      "metadata": {
        "id": "7SYiLeho46iw"
      }
    },
    {
      "cell_type": "code",
      "source": [
        "def create_identity_matrix(n):\n",
        "    return np.eye(n)\n",
        "\n",
        "identity_matrix = create_identity_matrix(4)\n",
        "print(identity_matrix)\n"
      ],
      "metadata": {
        "colab": {
          "base_uri": "https://localhost:8080/"
        },
        "id": "8C7NBBPL4fOc",
        "outputId": "64a88c25-c909-45e0-b590-caa6d915098d"
      },
      "execution_count": null,
      "outputs": [
        {
          "output_type": "stream",
          "name": "stdout",
          "text": [
            "[[1. 0. 0. 0.]\n",
            " [0. 1. 0. 0.]\n",
            " [0. 0. 1. 0.]\n",
            " [0. 0. 0. 1.]]\n"
          ]
        }
      ]
    },
    {
      "cell_type": "markdown",
      "source": [
        "# 16. Write a function that takes a Python list and converts it into a NumPy array."
      ],
      "metadata": {
        "id": "QqDgW2rc5OBX"
      }
    },
    {
      "cell_type": "code",
      "source": [
        "def list_to_array(my_list):\n",
        "    return np.array(my_list)\n",
        "\n",
        "my_list = [1, 2, 3, 4, 5]\n",
        "array = list_to_array(my_list)\n",
        "print(array)\n"
      ],
      "metadata": {
        "colab": {
          "base_uri": "https://localhost:8080/"
        },
        "id": "l4c-glMR5IFA",
        "outputId": "072b8ca2-d33d-459f-b415-90a30ced2887"
      },
      "execution_count": null,
      "outputs": [
        {
          "output_type": "stream",
          "name": "stdout",
          "text": [
            "[1 2 3 4 5]\n"
          ]
        }
      ]
    },
    {
      "cell_type": "markdown",
      "source": [
        "# 17. Create a NumPy array and demonstrate the use of `numpy.view` to create a new array object with the same data.\n"
      ],
      "metadata": {
        "id": "n-Jo7Cea5qeu"
      }
    },
    {
      "cell_type": "code",
      "source": [
        "# Create a NumPy array\n",
        "original_array = np.array([[1, 2, 3], [4, 5, 6]])\n",
        "\n",
        "# create a new array object with the same data using view\n",
        "view_array = original_array.view()\n",
        "\n",
        "# Modify the original array\n",
        "original_array[0, 0] = 10\n",
        "\n",
        "print(\"Original Array:\")\n",
        "print(original_array)\n",
        "\n",
        "print(\"\\nView Array:\")\n",
        "print(view_array)\n"
      ],
      "metadata": {
        "colab": {
          "base_uri": "https://localhost:8080/"
        },
        "id": "FpFPaFRS5gNm",
        "outputId": "e6be9196-0b03-4035-d44a-082933839ae1"
      },
      "execution_count": null,
      "outputs": [
        {
          "output_type": "stream",
          "name": "stdout",
          "text": [
            "Original Array:\n",
            "[[10  2  3]\n",
            " [ 4  5  6]]\n",
            "\n",
            "View Array:\n",
            "[[10  2  3]\n",
            " [ 4  5  6]]\n"
          ]
        }
      ]
    },
    {
      "cell_type": "markdown",
      "source": [
        "# 18. Write a function that takes two NumPy arrays and concatenates them along a specified axis."
      ],
      "metadata": {
        "id": "Va2xKHs56qpM"
      }
    },
    {
      "cell_type": "code",
      "source": [
        "def concatenate_arrays(arr1, arr2, axis=0):\n",
        "    return np.concatenate((arr1, arr2), axis=axis)\n",
        "\n",
        "\n",
        "arr1 = np.array([[1, 2, 3], [4, 5, 6]])\n",
        "arr2 = np.array([[7, 8, 9], [10, 11, 12]])\n",
        "\n",
        "# Concatenate along axis 0 (vertically)\n",
        "result_axis0 = concatenate_arrays(arr1, arr2, axis=0) # The number of columns must be the same for all arrays along this axis.\n",
        "print(\"Concatenated along axis 0:\")\n",
        "print(result_axis0)\n",
        "\n",
        "# Concatenate along axis 1 (horizontally)             # The number of rows must be the same for all arrays along this axis.\n",
        "result_axis1 = concatenate_arrays(arr1, arr2, axis=1)\n",
        "print(\"\\nConcatenated along axis 1:\")\n",
        "print(result_axis1)\n"
      ],
      "metadata": {
        "colab": {
          "base_uri": "https://localhost:8080/"
        },
        "id": "82hrrsGE6Rwo",
        "outputId": "759d5826-3462-4484-d4e4-4b8be15a7655"
      },
      "execution_count": null,
      "outputs": [
        {
          "output_type": "stream",
          "name": "stdout",
          "text": [
            "Concatenated along axis 0:\n",
            "[[ 1  2  3]\n",
            " [ 4  5  6]\n",
            " [ 7  8  9]\n",
            " [10 11 12]]\n",
            "\n",
            "Concatenated along axis 1:\n",
            "[[ 1  2  3  7  8  9]\n",
            " [ 4  5  6 10 11 12]]\n"
          ]
        }
      ]
    },
    {
      "cell_type": "markdown",
      "source": [
        "# 19.  Create two NumPy arrays with different shapes and concatenate them horizontally using `numpy.concatenate`."
      ],
      "metadata": {
        "id": "5SdRL73y8AtR"
      }
    },
    {
      "cell_type": "code",
      "source": [
        "# Create two NumPy arrays with different shapes but the same number of rows\n",
        "arr1 = np.array([[1, 2], [3, 4]])\n",
        "arr2 = np.array([[5, 6, 7], [8, 9, 10]])\n",
        "\n",
        "# Concatenate them horizontally (axis=1)\n",
        "result = np.concatenate((arr1, arr2), axis=1)\n",
        "\n",
        "print(\"Array 1:\")\n",
        "print(arr1)\n",
        "\n",
        "print(\"\\nArray 2:\")\n",
        "print(arr2)\n",
        "\n",
        "print(\"\\nConcatenated Result:\")\n",
        "print(result)\n"
      ],
      "metadata": {
        "colab": {
          "base_uri": "https://localhost:8080/"
        },
        "id": "X-vz385m7_kW",
        "outputId": "9c094d6d-c586-4656-8e44-5b43bce71ec1"
      },
      "execution_count": null,
      "outputs": [
        {
          "output_type": "stream",
          "name": "stdout",
          "text": [
            "Array 1:\n",
            "[[1 2]\n",
            " [3 4]]\n",
            "\n",
            "Array 2:\n",
            "[[ 5  6  7]\n",
            " [ 8  9 10]]\n",
            "\n",
            "Concatenated Result:\n",
            "[[ 1  2  5  6  7]\n",
            " [ 3  4  8  9 10]]\n"
          ]
        }
      ]
    },
    {
      "cell_type": "markdown",
      "source": [
        "# 20. Write a function that vertically stacks multiple NumPy arrays given as a list."
      ],
      "metadata": {
        "id": "dXfs7nD68zqj"
      }
    },
    {
      "cell_type": "code",
      "source": [
        "def vertical_stack(arrays):\n",
        "    return np.vstack(arrays)\n",
        "\n",
        "arr1 = np.array([[1, 2], [3, 4]])\n",
        "arr2 = np.array([[5, 6]])\n",
        "arr3 = np.array([[7, 8], [9, 10]])\n",
        "\n",
        "# Stack them vertically\n",
        "result = vertical_stack([arr1, arr2, arr3])\n",
        "\n",
        "print(\"Vertically Stacked Result:\")\n",
        "print(result)\n",
        "\n"
      ],
      "metadata": {
        "colab": {
          "base_uri": "https://localhost:8080/"
        },
        "id": "qhYEh-_o8lAi",
        "outputId": "12503f19-25b2-443c-a02a-09ca7e73d38a"
      },
      "execution_count": null,
      "outputs": [
        {
          "output_type": "stream",
          "name": "stdout",
          "text": [
            "Vertically Stacked Result:\n",
            "[[ 1  2]\n",
            " [ 3  4]\n",
            " [ 5  6]\n",
            " [ 7  8]\n",
            " [ 9 10]]\n"
          ]
        }
      ]
    },
    {
      "cell_type": "markdown",
      "source": [
        "# 21. Write a Python function using NumPy to create an array of integers within a specified range (inclusive) with a given step size"
      ],
      "metadata": {
        "id": "QX4r9d7g9rGp"
      }
    },
    {
      "cell_type": "code",
      "source": [
        "def range_array(start, stop, step):\n",
        "    return np.arange(start, stop + 1, step)\n",
        "\n",
        "start = 1\n",
        "stop = 10\n",
        "step = 2\n",
        "\n",
        "result = range_array(start, stop, step)\n",
        "print(result)\n"
      ],
      "metadata": {
        "colab": {
          "base_uri": "https://localhost:8080/"
        },
        "id": "m6Q-KzeY9lTg",
        "outputId": "c84e1b94-6776-430c-88dd-34bb9090d029"
      },
      "execution_count": null,
      "outputs": [
        {
          "output_type": "stream",
          "name": "stdout",
          "text": [
            "[1 3 5 7 9]\n"
          ]
        }
      ]
    },
    {
      "cell_type": "markdown",
      "source": [
        "# 22. Write a Python function using NumPy to generate an array of 10 equally spaced values between 0 and 1 (inclusive)."
      ],
      "metadata": {
        "id": "_ad59ZaP-GOY"
      }
    },
    {
      "cell_type": "code",
      "source": [
        "def equally_spaced_array(start=0, stop=1, num=10):\n",
        "    return np.linspace(start, stop, num)\n",
        "\n",
        "result = equally_spaced_array()\n",
        "print(result)\n"
      ],
      "metadata": {
        "colab": {
          "base_uri": "https://localhost:8080/"
        },
        "id": "hvTP2GRg-FO_",
        "outputId": "d04fd612-8cea-4ffc-988c-5ff05d4f063b"
      },
      "execution_count": null,
      "outputs": [
        {
          "output_type": "stream",
          "name": "stdout",
          "text": [
            "[0.         0.11111111 0.22222222 0.33333333 0.44444444 0.55555556\n",
            " 0.66666667 0.77777778 0.88888889 1.        ]\n"
          ]
        }
      ]
    },
    {
      "cell_type": "markdown",
      "source": [
        "# 23. Write a Python function using NumPy to create an array of 5 logarithmically spaced values between 1 and 1000 (inclusive)"
      ],
      "metadata": {
        "id": "XwvTF1lW-asJ"
      }
    },
    {
      "cell_type": "code",
      "source": [
        "def logarithmically_spaced_array(start=1, stop=1000, num=5):\n",
        "    return np.logspace(np.log10(start), np.log10(stop), num)\n",
        "\n",
        "result = logarithmically_spaced_array()\n",
        "print(result)\n"
      ],
      "metadata": {
        "colab": {
          "base_uri": "https://localhost:8080/"
        },
        "id": "UWAR8ByM-Za8",
        "outputId": "250c27c4-1f14-4689-d57a-2e5893fc9763"
      },
      "execution_count": null,
      "outputs": [
        {
          "output_type": "stream",
          "name": "stdout",
          "text": [
            "[   1.            5.62341325   31.6227766   177.827941   1000.        ]\n"
          ]
        }
      ]
    },
    {
      "cell_type": "markdown",
      "source": [
        "# 24. Create a Pandas DataFrame using a NumPy array that contains 5 rows and 3 columns, where the values are random integers between 1 and 100."
      ],
      "metadata": {
        "id": "RjkYA2SX-xm9"
      }
    },
    {
      "cell_type": "code",
      "source": [
        "import numpy as np\n",
        "import pandas as pd\n",
        "\n",
        "# Generate a NumPy array with random integers between 1 and 100\n",
        "data = np.random.randint(1, 101, size=(5, 3))\n",
        "\n",
        "# Create a Pandas DataFrame from the NumPy array\n",
        "df = pd.DataFrame(data, columns=['Column1', 'Column2', 'Column3'])\n",
        "\n",
        "print(df)\n"
      ],
      "metadata": {
        "colab": {
          "base_uri": "https://localhost:8080/"
        },
        "id": "vKfbsM7V-wK_",
        "outputId": "7d436b9c-733e-4fc8-c1f7-ca56cc1ea656"
      },
      "execution_count": null,
      "outputs": [
        {
          "output_type": "stream",
          "name": "stdout",
          "text": [
            "   Column1  Column2  Column3\n",
            "0       53       40       89\n",
            "1       10       76       99\n",
            "2       30       61       13\n",
            "3        6       66       51\n",
            "4       44       31       99\n"
          ]
        }
      ]
    },
    {
      "cell_type": "markdown",
      "source": [
        "# 25. Write a function that takes a Pandas DataFrame and replaces all negative values in a specific column with zeros. Use NumPy operations within the Pandas DataFrame."
      ],
      "metadata": {
        "id": "ABqdIuh__LA6"
      }
    },
    {
      "cell_type": "code",
      "source": [
        "def replace_negative_with_zero(df, column_name):\n",
        "\n",
        "    # Use NumPy's where function to replace negative values with 0\n",
        "    df[column_name] = np.where(df[column_name] < 0, 0, df[column_name])\n",
        "    return df\n",
        "\n",
        "# Create a sample DataFrame\n",
        "df = pd.DataFrame({\n",
        "    'A': [10, -20, 30, -40, 50],\n",
        "    'B': [-5, 15, -25, 35, -45]\n",
        "})\n",
        "\n",
        "# Replace negative values in column 'A' with zeros\n",
        "df = replace_negative_with_zero(df, 'A')\n",
        "\n",
        "print(df)\n"
      ],
      "metadata": {
        "colab": {
          "base_uri": "https://localhost:8080/"
        },
        "id": "iIhGkvia_Dt7",
        "outputId": "ba6fe8ac-6e8a-4db2-884a-3e364ee85154"
      },
      "execution_count": null,
      "outputs": [
        {
          "output_type": "stream",
          "name": "stdout",
          "text": [
            "    A   B\n",
            "0  10  -5\n",
            "1   0  15\n",
            "2  30 -25\n",
            "3   0  35\n",
            "4  50 -45\n"
          ]
        }
      ]
    },
    {
      "cell_type": "markdown",
      "source": [
        "# 26. Access the 3rd element from the given NumPy array.\n",
        "# arr = np.array([10, 20, 30, 40, 50])"
      ],
      "metadata": {
        "id": "7dYrWpO2Am3J"
      }
    },
    {
      "cell_type": "code",
      "source": [
        "arr = np.array([10, 20, 30, 40, 50])\n",
        "\n",
        "# Access the 3rd element\n",
        "third_element = arr[2]\n",
        "\n",
        "print(third_element)\n"
      ],
      "metadata": {
        "colab": {
          "base_uri": "https://localhost:8080/"
        },
        "id": "ImYUy-NS_mjG",
        "outputId": "55f4be57-b58c-443e-cc37-295be0399be2"
      },
      "execution_count": null,
      "outputs": [
        {
          "output_type": "stream",
          "name": "stdout",
          "text": [
            "30\n"
          ]
        }
      ]
    },
    {
      "cell_type": "markdown",
      "source": [],
      "metadata": {
        "id": "S2FDcuxzA3NK"
      }
    },
    {
      "cell_type": "markdown",
      "source": [
        "# 27. Retrieve the element at index (1, 2) from the 2D NumPy array.\n",
        "\n",
        " arr_2d = np.array([[1, 2, 3],\n",
        " [4, 5, 6],\n",
        " [7, 8, 9]]"
      ],
      "metadata": {
        "id": "DgnHAlGdA7LA"
      }
    },
    {
      "cell_type": "code",
      "source": [
        "arr_2d = np.array([[1, 2, 3],\n",
        "                    [4, 5, 6],\n",
        "                    [7, 8, 9]])\n",
        "\n",
        "# Retrieve the element at index (1, 2)\n",
        "element = arr_2d[1, 2]\n",
        "\n",
        "print(element)\n"
      ],
      "metadata": {
        "colab": {
          "base_uri": "https://localhost:8080/"
        },
        "id": "wMnE-48jA1UO",
        "outputId": "4e2b0e30-8dd7-42a9-bdda-64c792dd6041"
      },
      "execution_count": null,
      "outputs": [
        {
          "output_type": "stream",
          "name": "stdout",
          "text": [
            "6\n"
          ]
        }
      ]
    },
    {
      "cell_type": "markdown",
      "source": [
        "# 28. Using boolean indexing, extract elements greater than 5 from the given NumPy array.\n",
        " arr = np.array([3, 8, 2, 10, 5, 7])"
      ],
      "metadata": {
        "id": "_-qCTCnFBS4R"
      }
    },
    {
      "cell_type": "code",
      "source": [
        "arr = np.array([3, 8, 2, 10, 5, 7])\n",
        "\n",
        "# Create a boolean mask\n",
        "mask = arr > 5\n",
        "\n",
        "# Use the mask to extract the elements\n",
        "filtered_elements = arr[mask]\n",
        "\n",
        "print(filtered_elements)\n"
      ],
      "metadata": {
        "colab": {
          "base_uri": "https://localhost:8080/"
        },
        "id": "RLgmnMtWBMKf",
        "outputId": "d7524476-41f3-41a3-df0d-d1c141d85602"
      },
      "execution_count": null,
      "outputs": [
        {
          "output_type": "stream",
          "name": "stdout",
          "text": [
            "[ 8 10  7]\n"
          ]
        }
      ]
    },
    {
      "cell_type": "markdown",
      "source": [
        "# 29. Perform basic slicing to extract elements from index 2 to 5 (inclusive) from the given NumPy array.\n",
        " arr = np.array([1, 2, 3, 4, 5, 6, 7, 8, 9])"
      ],
      "metadata": {
        "id": "kZdSfgxGCE9g"
      }
    },
    {
      "cell_type": "code",
      "source": [
        "arr = np.array([1, 2, 3, 4, 5, 6, 7, 8, 9])\n",
        "\n",
        "sliced_array = arr[2:6]\n",
        "\n",
        "print(sliced_array)\n"
      ],
      "metadata": {
        "colab": {
          "base_uri": "https://localhost:8080/"
        },
        "id": "mSaZBSr3B7S4",
        "outputId": "bdf036ce-c474-4f26-cd0f-1ec427a2178a"
      },
      "execution_count": null,
      "outputs": [
        {
          "output_type": "stream",
          "name": "stdout",
          "text": [
            "[3 4 5 6]\n"
          ]
        }
      ]
    },
    {
      "cell_type": "markdown",
      "source": [
        "# 30. Slice the 2D NumPy array to extract the sub-array `[[2, 3], [5, 6]]` from the given array.\n",
        " arr_2d = np.array([[1, 2, 3],\n",
        " [4, 5, 6],\n",
        " [7, 8, 9]])\n"
      ],
      "metadata": {
        "id": "y7pt2fu0CaeO"
      }
    },
    {
      "cell_type": "code",
      "source": [
        "arr_2d = np.array([[1, 2, 3],\n",
        "                    [4, 5, 6],\n",
        "                    [7, 8, 9]])\n",
        "\n",
        "sub_array = arr_2d[0:2, 1:3]\n",
        "\n",
        "print(sub_array)\n"
      ],
      "metadata": {
        "colab": {
          "base_uri": "https://localhost:8080/"
        },
        "id": "AtiiiznyCONe",
        "outputId": "e9d89d5a-17c5-4bd7-f073-ba007c3aedd9"
      },
      "execution_count": null,
      "outputs": [
        {
          "output_type": "stream",
          "name": "stdout",
          "text": [
            "[[2 3]\n",
            " [5 6]]\n"
          ]
        }
      ]
    },
    {
      "cell_type": "markdown",
      "source": [
        "# 31.Write a NumPy function to extract elements in specific order from a given 2D array based on indices provided in another array."
      ],
      "metadata": {
        "id": "r6zCD1MLDkcL"
      }
    },
    {
      "cell_type": "code",
      "source": [
        "def extract_elements(arr_2d, indices):\n",
        "   rows, cols = indices[:, 0], indices[:, 1]\n",
        "   return arr_2d[rows, cols]\n",
        "\n",
        "\n",
        "# Given 2D NumPy array\n",
        "arr_2d = np.array([[10, 20, 30],\n",
        "                    [40, 50, 60],\n",
        "                    [70, 80, 90]])\n",
        "\n",
        "# Indices for extraction (row_index, column_index)\n",
        "indices = np.array([[0, 1],\n",
        "                    [1, 2],\n",
        "                    [2, 0]])\n",
        "# Extract elements based on the indices\n",
        "extracted_elements = extract_elements(arr_2d, indices)\n",
        "\n",
        "print(extracted_elements)"
      ],
      "metadata": {
        "colab": {
          "base_uri": "https://localhost:8080/"
        },
        "id": "lmyfD347CoOK",
        "outputId": "7c2555f0-4831-4909-914a-7e660952fe3e"
      },
      "execution_count": null,
      "outputs": [
        {
          "output_type": "stream",
          "name": "stdout",
          "text": [
            "[20 60 70]\n"
          ]
        }
      ]
    },
    {
      "cell_type": "markdown",
      "source": [
        "# 32. Create a NumPy function that filters elements greater than a threshold from a given 1D array using boolean indexing"
      ],
      "metadata": {
        "id": "Ajp8a0Ps0Uz0"
      }
    },
    {
      "cell_type": "code",
      "source": [
        "def filter_gt(arr, threshold):\n",
        "\n",
        "  # Create a boolean mask for elements greater than the threshold\n",
        "    mask = arr > threshold\n",
        "\n",
        "    # Use the mask to filter elements\n",
        "    return arr[mask]\n",
        "\n",
        "# Given 1D NumPy array\n",
        "arr = np.array([1, 5, 8, 12, 3, 7])\n",
        "\n",
        "# Define the threshold\n",
        "threshold = 6\n",
        "\n",
        "# Filter elements greater than the threshold\n",
        "filtered_elements = filter_gt(arr, threshold)\n",
        "\n",
        "print(filtered_elements)"
      ],
      "metadata": {
        "id": "HF00PavbEzhC",
        "colab": {
          "base_uri": "https://localhost:8080/"
        },
        "outputId": "7d0ca213-619e-4f55-ea50-085d926c0e32"
      },
      "execution_count": null,
      "outputs": [
        {
          "output_type": "stream",
          "name": "stdout",
          "text": [
            "[ 8 12  7]\n"
          ]
        }
      ]
    },
    {
      "cell_type": "markdown",
      "source": [
        "# 33. Develop a NumPy function that extracts specific elements from a 3D array using indices provided in three separate arrays for each dimension."
      ],
      "metadata": {
        "id": "MPV1UBvl1_ud"
      }
    },
    {
      "cell_type": "code",
      "source": [
        "def extract_3d_elements(arr_3d, row_indices, col_indices, depth_indices):\n",
        "   # Extract elements based on the provided indices\n",
        "    return arr_3d[row_indices, col_indices, depth_indices]\n",
        "\n",
        "# Given 3D NumPy array\n",
        "arr_3d = np.array([[[10, 20, 30],\n",
        "                    [40, 50, 60]],\n",
        "                   [[70, 80, 90],\n",
        "                    [100, 110, 120]],\n",
        "                   [[130, 140, 150],\n",
        "                    [160, 170, 180]]])\n",
        "\n",
        "# Indices for extraction\n",
        "row_indices = np.array([0, 1, 2])  # Rows\n",
        "col_indices = np.array([1, 0, 1])  # Columns\n",
        "depth_indices = np.array([2, 1, 0])  # Depths\n",
        "\n",
        "# Extract elements based on the indices\n",
        "extracted_elements = extract_3d_elements(arr_3d, row_indices, col_indices, depth_indices)\n",
        "\n",
        "print(extracted_elements)"
      ],
      "metadata": {
        "colab": {
          "base_uri": "https://localhost:8080/"
        },
        "id": "SzpMdypS19Qj",
        "outputId": "cf011028-bd4c-498b-de5a-1bb9e0f1e222"
      },
      "execution_count": null,
      "outputs": [
        {
          "output_type": "stream",
          "name": "stdout",
          "text": [
            "[ 60  80 160]\n"
          ]
        }
      ]
    },
    {
      "cell_type": "markdown",
      "source": [
        "# 34. Write a NumPy function that returns elements from an array where both two conditions are satisfied using boolean indexing."
      ],
      "metadata": {
        "id": "jDszDdps6tFI"
      }
    },
    {
      "cell_type": "code",
      "source": [
        "def filter_elements(arr, condition1, condition2):\n",
        "    return arr[condition1 & condition2]\n",
        "\n",
        "# Example usage:\n",
        "arr = np.array([1, 2, 3, 4, 5, 6, 7, 8, 9, 10])\n",
        "condition1 = arr > 3\n",
        "condition2 = arr % 2 == 0\n",
        "\n",
        "filtered_elements = filter_elements(arr, condition1, condition2)\n",
        "print(filtered_elements)\n"
      ],
      "metadata": {
        "colab": {
          "base_uri": "https://localhost:8080/"
        },
        "id": "vIDXdSNG7uBv",
        "outputId": "d2ebd7d3-acd5-4b53-f928-c791d2955999"
      },
      "execution_count": null,
      "outputs": [
        {
          "output_type": "stream",
          "name": "stdout",
          "text": [
            "[ 4  6  8 10]\n"
          ]
        }
      ]
    },
    {
      "cell_type": "markdown",
      "source": [
        "# 35. Create a NumPy function that extracts elements from a 2D array using row and column indices provided in separate arrays."
      ],
      "metadata": {
        "id": "Jm2FIOjd7zTo"
      }
    },
    {
      "cell_type": "code",
      "source": [
        "def extract_elements(matrix, row_indices, col_indices):\n",
        "    return matrix[row_indices, col_indices]\n",
        "\n",
        "# Example usage:\n",
        "matrix = np.array([[10, 20, 30],\n",
        "                   [40, 50, 60],\n",
        "                   [70, 80, 90]])\n",
        "\n",
        "row_indices = np.array([0, 1, 2])\n",
        "col_indices = np.array([1, 2, 0])\n",
        "\n",
        "extracted_elements = extract_elements(matrix, row_indices, col_indices)\n",
        "print(extracted_elements)"
      ],
      "metadata": {
        "colab": {
          "base_uri": "https://localhost:8080/"
        },
        "id": "ASpvcwsE7wTf",
        "outputId": "0c0d832e-0296-46ee-ff2d-832b10157571"
      },
      "execution_count": null,
      "outputs": [
        {
          "output_type": "stream",
          "name": "stdout",
          "text": [
            "[20 60 70]\n"
          ]
        }
      ]
    },
    {
      "cell_type": "markdown",
      "source": [
        "# 36. Given an array arr of shape (3, 3), add a scalar value of 5 to each element using NumPy broadcasting."
      ],
      "metadata": {
        "id": "7Tr_Gd7n8Xnc"
      }
    },
    {
      "cell_type": "code",
      "source": [
        "# Define the array with shape (3, 3)\n",
        "arr = np.array([[1, 2, 3],\n",
        "                [4, 5, 6],\n",
        "                [7, 8, 9]])\n",
        "\n",
        "# Add a scalar value of 5 to each element\n",
        "result = arr + 5\n",
        "\n",
        "print(result)"
      ],
      "metadata": {
        "colab": {
          "base_uri": "https://localhost:8080/"
        },
        "id": "FERy8Cdu8OY3",
        "outputId": "f228c1c7-c7d4-4f43-e51f-13591ab35b90"
      },
      "execution_count": null,
      "outputs": [
        {
          "output_type": "stream",
          "name": "stdout",
          "text": [
            "[[ 6  7  8]\n",
            " [ 9 10 11]\n",
            " [12 13 14]]\n"
          ]
        }
      ]
    },
    {
      "cell_type": "markdown",
      "source": [
        "# 37. Consider two arrays arr1 of shape (1, 3) and arr2 of shape (3, 4). Multiply each row of arr2 by the corresponding element in arr1 using NumPy broadcasting."
      ],
      "metadata": {
        "id": "zIgoZOvr8tRN"
      }
    },
    {
      "cell_type": "code",
      "source": [
        "# Define the arrays\n",
        "arr1 = np.array([[1, 2, 3]])  # Shape (1, 3)\n",
        "arr2 = np.array([[10, 20, 30, 40],\n",
        "                 [50, 60, 70, 80],\n",
        "                 [90, 100, 110, 120]])  # Shape (3, 4)\n",
        "\n",
        "result = arr2 * arr1.T # Converting rows to column for multiplication\n",
        "print(result)"
      ],
      "metadata": {
        "colab": {
          "base_uri": "https://localhost:8080/"
        },
        "id": "NfRDEcWl8qzv",
        "outputId": "057d096b-493d-4435-9daa-fa41c95d5479"
      },
      "execution_count": null,
      "outputs": [
        {
          "output_type": "stream",
          "name": "stdout",
          "text": [
            "[[ 10  20  30  40]\n",
            " [100 120 140 160]\n",
            " [270 300 330 360]]\n"
          ]
        }
      ]
    },
    {
      "cell_type": "markdown",
      "source": [
        "# 38. Given a 1D array arr1 of shape (1, 4) and a 2D array arr2 of shape (4, 3), add arr1 to each row of arr2 using NumPy broadcasting."
      ],
      "metadata": {
        "id": "c--IRAwc9l2A"
      }
    },
    {
      "cell_type": "code",
      "source": [
        "# Define the arrays\n",
        "arr1 = np.array([[1, 2, 3, 4]])  # Shape (1, 4)\n",
        "arr2 = np.array([[10, 20, 30],\n",
        "                 [40, 50, 60],\n",
        "                 [70, 80, 90],\n",
        "                 [100, 110, 120]])  # Shape (4, 3)\n",
        "\n",
        "arr1_reshaped = arr1[:, :arr2.shape[1]]  # Reshape arr1 to match the number of columns in arr2\n",
        "\n",
        "# Add arr1 to each row of arr2\n",
        "result = arr2 + arr1_reshaped\n",
        "\n",
        "print(result)"
      ],
      "metadata": {
        "colab": {
          "base_uri": "https://localhost:8080/"
        },
        "id": "SMpNCBmK9XKY",
        "outputId": "2f768b4c-489b-49a3-e1bb-16ad72829977"
      },
      "execution_count": null,
      "outputs": [
        {
          "output_type": "stream",
          "name": "stdout",
          "text": [
            "[[ 11  22  33]\n",
            " [ 41  52  63]\n",
            " [ 71  82  93]\n",
            " [101 112 123]]\n"
          ]
        }
      ]
    },
    {
      "cell_type": "markdown",
      "source": [
        "# 39. Consider two arrays arr1 of shape (3, 1) and arr2 of shape (1, 3). Add these arrays using NumPy broadcasting."
      ],
      "metadata": {
        "id": "nfFx3u2yD9n1"
      }
    },
    {
      "cell_type": "code",
      "source": [
        "arr1 = np.array([[1],\n",
        "                 [2],\n",
        "                 [3]])  # Shape (3, 1)\n",
        "\n",
        "arr2 = np.array([[4, 5, 6]])  # Shape (1, 3)\n",
        "\n",
        "# Add the arrays using broadcasting\n",
        "result = arr1 + arr2\n",
        "\n",
        "print(result)"
      ],
      "metadata": {
        "colab": {
          "base_uri": "https://localhost:8080/"
        },
        "id": "eoutnFNTBFpN",
        "outputId": "c980af37-b56e-42f9-db4f-01fa0baf2e89"
      },
      "execution_count": null,
      "outputs": [
        {
          "output_type": "stream",
          "name": "stdout",
          "text": [
            "[[5 6 7]\n",
            " [6 7 8]\n",
            " [7 8 9]]\n"
          ]
        }
      ]
    },
    {
      "cell_type": "markdown",
      "source": [
        "# 40. Given arrays arr1 of shape (2, 3) and arr2 of shape (2, 2), perform multiplication using NumPy broadcasting. Handle the shape incompatibility."
      ],
      "metadata": {
        "id": "K-pq9WtJFFJE"
      }
    },
    {
      "cell_type": "code",
      "source": [
        "# Define the arrays\n",
        "arr1 = np.array([[1, 2, 3],\n",
        "                 [4, 5, 6]])  # Shape (2, 3)\n",
        "\n",
        "arr2 = np.array([[10, 20],\n",
        "                 [30, 40]])  # Shape (2, 2)\n",
        "\n",
        "# Reshape arr2 to be broadcastable with arr1\n",
        "# We will reshape arr2 to shape (2, 1, 2) and then multiply\n",
        "arr2_reshaped = arr2[:, np.newaxis, :]  # Shape (2, 1, 2)\n",
        "\n",
        "# Multiply arr1 by arr2_reshaped\n",
        "# This will broadcast arr1 (2, 3) with arr2_reshaped (2, 1, 2)\n",
        "result = arr1[:, :, np.newaxis] * arr2_reshaped  # Shape (2, 3, 2)\n",
        "\n",
        "print(result)"
      ],
      "metadata": {
        "colab": {
          "base_uri": "https://localhost:8080/"
        },
        "id": "y0URKvUIEKSo",
        "outputId": "b5ef1fc7-4b25-462d-caa3-9547857de295"
      },
      "execution_count": null,
      "outputs": [
        {
          "output_type": "stream",
          "name": "stdout",
          "text": [
            "[[[ 10  20]\n",
            "  [ 20  40]\n",
            "  [ 30  60]]\n",
            "\n",
            " [[120 160]\n",
            "  [150 200]\n",
            "  [180 240]]]\n"
          ]
        }
      ]
    },
    {
      "cell_type": "markdown",
      "source": [
        "# 41. Calculate column-wise mean for the given array:\n",
        " arr = np.array([[1, 2, 3], [4, 5, 6]])"
      ],
      "metadata": {
        "id": "fybrX4LXNCXm"
      }
    },
    {
      "cell_type": "code",
      "source": [
        "arr = np.array([[1, 2, 3],\n",
        "                [4, 5, 6]])\n",
        "\n",
        "# Calculate column-wise mean\n",
        "column_mean = np.mean(arr, axis=0)\n",
        "\n",
        "print(column_mean)"
      ],
      "metadata": {
        "colab": {
          "base_uri": "https://localhost:8080/"
        },
        "id": "AH-lDb5tNGDW",
        "outputId": "69514fc6-26d0-4613-d8e4-90b870c8a3b9"
      },
      "execution_count": null,
      "outputs": [
        {
          "output_type": "stream",
          "name": "stdout",
          "text": [
            "[2.5 3.5 4.5]\n"
          ]
        }
      ]
    },
    {
      "cell_type": "markdown",
      "source": [
        "# 42. Find maximum value in each row of the given array:\n",
        " arr = np.array([[1, 2, 3], [4, 5, 6]])"
      ],
      "metadata": {
        "id": "DsqMiC5_NxoL"
      }
    },
    {
      "cell_type": "code",
      "source": [
        "arr = np.array([[1, 2, 3],\n",
        "                [4, 5, 6]])\n",
        "\n",
        "# Find the maximum value in each row\n",
        "row_max = np.max(arr, axis=1)\n",
        "\n",
        "print(row_max)"
      ],
      "metadata": {
        "colab": {
          "base_uri": "https://localhost:8080/"
        },
        "id": "ifK_cUVHNgUF",
        "outputId": "682a24f7-785b-4f82-8647-8c7844c23aa9"
      },
      "execution_count": null,
      "outputs": [
        {
          "output_type": "stream",
          "name": "stdout",
          "text": [
            "[3 6]\n"
          ]
        }
      ]
    },
    {
      "cell_type": "markdown",
      "source": [
        "# 43. For the given array, find indices of maximum value in each column.\n",
        " arr = np.array([[1, 2, 3], [4, 5, 6]])"
      ],
      "metadata": {
        "id": "9ghi6ujOOAXL"
      }
    },
    {
      "cell_type": "code",
      "source": [
        "arr = np.array([[1, 2, 3],\n",
        "                [4, 5, 6]])\n",
        "\n",
        "# Find indices of the maximum value in each column\n",
        "indices_of_max = np.argmax(arr, axis=0)\n",
        "\n",
        "print(indices_of_max)"
      ],
      "metadata": {
        "colab": {
          "base_uri": "https://localhost:8080/"
        },
        "id": "G66yovluN7Na",
        "outputId": "d16c7e03-1a14-4ebe-cf9b-c8287d274348"
      },
      "execution_count": null,
      "outputs": [
        {
          "output_type": "stream",
          "name": "stdout",
          "text": [
            "[1 1 1]\n"
          ]
        }
      ]
    },
    {
      "cell_type": "markdown",
      "source": [
        "# 44. For the given array, apply custom function to calculate moving sum along rows.\n",
        " arr = np.array([[1, 2, 3], [4, 5, 6]])"
      ],
      "metadata": {
        "id": "nq31VicyOhIA"
      }
    },
    {
      "cell_type": "code",
      "source": [
        "def moving_sum(arr, window_size):\n",
        "    # Ensure the window size is valid\n",
        "    if window_size > arr.shape[1]:\n",
        "        raise ValueError(\"Window size must be less than or equal to the number of columns\")\n",
        "\n",
        "    # Initialize result array\n",
        "    num_rows, num_cols = arr.shape\n",
        "    result = np.zeros((num_rows, num_cols - window_size + 1))\n",
        "\n",
        "    # Calculate moving sums for each row\n",
        "    for i in range(num_rows):\n",
        "        for j in range(num_cols - window_size + 1):\n",
        "            result[i, j] = np.sum(arr[i, j:j + window_size])\n",
        "\n",
        "    return result\n",
        "\n",
        "# Define the array\n",
        "arr = np.array([[1, 2, 3],\n",
        "                [4, 5, 6]])\n",
        "\n",
        "# Specify window size\n",
        "window_size = 2\n",
        "\n",
        "# Calculate moving sum along rows\n",
        "result = moving_sum(arr, window_size)\n",
        "\n",
        "print(result)\n"
      ],
      "metadata": {
        "colab": {
          "base_uri": "https://localhost:8080/"
        },
        "id": "mCIa64mgOb5M",
        "outputId": "b1313ce2-c99d-4340-e7f8-3ae824c41eef"
      },
      "execution_count": null,
      "outputs": [
        {
          "output_type": "stream",
          "name": "stdout",
          "text": [
            "[[ 3.  5.]\n",
            " [ 9. 11.]]\n"
          ]
        }
      ]
    },
    {
      "cell_type": "markdown",
      "source": [
        "# 45. In the given array, check if all elements in each column are even.\n",
        " arr = np.array([[2, 4, 6], [3, 5, 7]])\n"
      ],
      "metadata": {
        "id": "ylX1fgQLQPU8"
      }
    },
    {
      "cell_type": "code",
      "source": [
        "# Define the array\n",
        "arr = np.array([[2, 4, 6],\n",
        "                [3, 5, 7]])\n",
        "\n",
        "# Check if all elements in each column are even\n",
        "all_even = np.all(arr % 2 == 0, axis=0)\n",
        "\n",
        "print(all_even)\n"
      ],
      "metadata": {
        "colab": {
          "base_uri": "https://localhost:8080/"
        },
        "id": "PGQSX6dYPciI",
        "outputId": "6c7c7748-ee6a-43b2-9903-a355113de19b"
      },
      "execution_count": null,
      "outputs": [
        {
          "output_type": "stream",
          "name": "stdout",
          "text": [
            "[False False False]\n"
          ]
        }
      ]
    },
    {
      "cell_type": "markdown",
      "source": [
        "# 46. Given a NumPy array arr, reshape it into a matrix of dimensions `m` rows and `n` columns. Return the reshaped matrix.\n",
        "\n",
        " original_array = np.array([1, 2, 3, 4, 5, 6])"
      ],
      "metadata": {
        "id": "sUDuqzOHQxWb"
      }
    },
    {
      "cell_type": "code",
      "source": [
        "original_array = np.array([1, 2, 3, 4, 5, 6])\n",
        "\n",
        "# Define the desired dimensions\n",
        "m = 2  # Number of rows\n",
        "n = 3  # Number of columns\n",
        "\n",
        "# Reshape the array\n",
        "reshaped_matrix = original_array.reshape(m, n)\n",
        "\n",
        "print(reshaped_matrix)\n"
      ],
      "metadata": {
        "colab": {
          "base_uri": "https://localhost:8080/"
        },
        "id": "zHCm3d6WQbXs",
        "outputId": "2c0e0347-74a2-4ea2-8242-643f16a5a6a0"
      },
      "execution_count": null,
      "outputs": [
        {
          "output_type": "stream",
          "name": "stdout",
          "text": [
            "[[1 2 3]\n",
            " [4 5 6]]\n"
          ]
        }
      ]
    },
    {
      "cell_type": "markdown",
      "source": [
        "# 47. Create a function that takes a matrix as input and returns the flattened array.\n",
        " input_matrix = np.array([[1, 2, 3], [4, 5, 6]])"
      ],
      "metadata": {
        "id": "RRz6MfS3RHZ-"
      }
    },
    {
      "cell_type": "code",
      "source": [
        "def flatten_matrix(matrix):\n",
        "    # Flatten the matrix into a 1D array\n",
        "    return matrix.flatten()\n",
        "\n",
        "# Define the input matrix\n",
        "input_matrix = np.array([[1, 2, 3],\n",
        "                         [4, 5, 6]])\n",
        "\n",
        "# Flatten the matrix\n",
        "flattened_array = flatten_matrix(input_matrix)\n",
        "\n",
        "print(flattened_array)\n"
      ],
      "metadata": {
        "colab": {
          "base_uri": "https://localhost:8080/"
        },
        "id": "BAhGqZDLRENu",
        "outputId": "47d696df-de1e-4e09-db80-78a9b7648f69"
      },
      "execution_count": null,
      "outputs": [
        {
          "output_type": "stream",
          "name": "stdout",
          "text": [
            "[1 2 3 4 5 6]\n"
          ]
        }
      ]
    },
    {
      "cell_type": "markdown",
      "source": [
        "# 48. Write a function that concatenates two given arrays along a specified axis.\n",
        "\n",
        " array1 = np.array([[1, 2], [3, 4]])\n",
        " array2 = np.array([[5, 6], [7, 8]])"
      ],
      "metadata": {
        "id": "Xr23-ttTRikh"
      }
    },
    {
      "cell_type": "code",
      "source": [
        "def concat(a1, a2, ax=0):\n",
        "    # Concatenate the two arrays along the specified axis\n",
        "    return np.concatenate((a1, a2), axis=ax)\n",
        "\n",
        "# Define the input arrays\n",
        "a1 = np.array([[1, 2],\n",
        "               [3, 4]])\n",
        "\n",
        "a2 = np.array([[5, 6],\n",
        "               [7, 8]])\n",
        "\n",
        "# Concatenate the arrays along axis 0 (vertically)\n",
        "result_ax0 = concat(a1, a2, ax=0)\n",
        "print(\"Concatenated along axis 0:\\n\", result_ax0)\n",
        "\n",
        "# Concatenate the arrays along axis 1 (horizontally)\n",
        "result_ax1 = concat(a1, a2, ax=1)\n",
        "print(\"Concatenated along axis 1:\\n\", result_ax1)"
      ],
      "metadata": {
        "colab": {
          "base_uri": "https://localhost:8080/"
        },
        "id": "YC2YsWW1RdBs",
        "outputId": "c1b2d4ef-0c96-4219-a035-2e343897cb15"
      },
      "execution_count": null,
      "outputs": [
        {
          "output_type": "stream",
          "name": "stdout",
          "text": [
            "Concatenated along axis 0:\n",
            " [[1 2]\n",
            " [3 4]\n",
            " [5 6]\n",
            " [7 8]]\n",
            "Concatenated along axis 1:\n",
            " [[1 2 5 6]\n",
            " [3 4 7 8]]\n"
          ]
        }
      ]
    },
    {
      "cell_type": "markdown",
      "source": [
        "# 49. Create a function that splits an array into multiple sub-arrays along a specified axis.\n",
        " original_array = np.array([[1, 2, 3], [4, 5, 6], [7, 8, 9]])"
      ],
      "metadata": {
        "id": "axDMK3nGS2Uj"
      }
    },
    {
      "cell_type": "code",
      "source": [
        "def split_arr(arr, n, ax=0):\n",
        "    # Split the array into 'n' sub-arrays along the specified axis\n",
        "    return np.split(arr, n, axis=ax)\n",
        "\n",
        "# Define the original array\n",
        "orig_arr = np.array([[1, 2, 3],\n",
        "                     [4, 5, 6],\n",
        "                     [7, 8, 9]])\n",
        "\n",
        "# Split the array into 3 sub-arrays along axis 0 (rows)\n",
        "split_ax0 = split_arr(orig_arr, 3, ax=0)\n",
        "print(\"Split along axis 0:\")\n",
        "for sub_arr in split_ax0:\n",
        "    print(sub_arr)\n",
        "\n",
        "# Split the array into 3 sub-arrays along axis 1 (columns)\n",
        "split_ax1 = split_arr(orig_arr, 3, ax=1)\n",
        "print(\"Split along axis 1:\")\n",
        "for sub_arr in split_ax1:\n",
        "    print(sub_arr)"
      ],
      "metadata": {
        "colab": {
          "base_uri": "https://localhost:8080/"
        },
        "id": "tBeYeq13ShQy",
        "outputId": "ac4d0ac3-2b84-40fd-fb42-18060bc4782f"
      },
      "execution_count": null,
      "outputs": [
        {
          "output_type": "stream",
          "name": "stdout",
          "text": [
            "Split along axis 0:\n",
            "[[1 2 3]]\n",
            "[[4 5 6]]\n",
            "[[7 8 9]]\n",
            "Split along axis 1:\n",
            "[[1]\n",
            " [4]\n",
            " [7]]\n",
            "[[2]\n",
            " [5]\n",
            " [8]]\n",
            "[[3]\n",
            " [6]\n",
            " [9]]\n"
          ]
        }
      ]
    },
    {
      "cell_type": "markdown",
      "source": [
        "# 50. Write a function that inserts and then deletes elements from a given array at specified indices.\n",
        " original_array = np.array([1, 2, 3, 4, 5])\n",
        " indices_to_insert = [2, 4]\n",
        " values_to_insert = [10, 11]\n",
        " indices_to_delete = [1, 3]"
      ],
      "metadata": {
        "id": "Pbv2jBtgTrUl"
      }
    },
    {
      "cell_type": "code",
      "source": [
        "import numpy as np\n",
        "\n",
        "def modify_array(arr, indices_insert, values_insert, indices_delete):\n",
        "    # Insert values into the array\n",
        "    arr = np.insert(arr, indices_insert, values_insert)\n",
        "\n",
        "    # Adjust indices for deletion\n",
        "    # Since insertion has changed the array, the indices need to be recalculated\n",
        "    # Sort indices to delete in reverse order to avoid shifting issues\n",
        "    indices_delete = sorted(indices_delete, reverse=True)\n",
        "\n",
        "    # Delete elements from the array\n",
        "    for idx in indices_delete:\n",
        "        arr = np.delete(arr, idx)\n",
        "\n",
        "    return arr\n",
        "\n",
        "# Define the original array\n",
        "orig_arr = np.array([1, 2, 3, 4, 5])\n",
        "\n",
        "# Define indices and values to insert\n",
        "indices_to_insert = [2, 4]\n",
        "values_to_insert = [10, 11]\n",
        "\n",
        "# Define indices to delete\n",
        "indices_to_delete = [1, 3]\n",
        "\n",
        "# Modify the array\n",
        "result_arr = modify_array(orig_arr, indices_to_insert, values_to_insert, indices_to_delete)\n",
        "\n",
        "print(\"Modified array:\\n\", result_arr)\n"
      ],
      "metadata": {
        "colab": {
          "base_uri": "https://localhost:8080/"
        },
        "id": "4pwKY_rnTjTb",
        "outputId": "90050ff8-ea1e-413f-c641-f68b3f0590df"
      },
      "execution_count": null,
      "outputs": [
        {
          "output_type": "stream",
          "name": "stdout",
          "text": [
            "Modified array:\n",
            " [ 1 10  4 11  5]\n"
          ]
        }
      ]
    },
    {
      "cell_type": "markdown",
      "source": [
        "# 51. Create a NumPy array `arr1` with random integers and another array `arr2` with integers from 1 to 10. Perform element-wise addition between `arr1` and `arr2`."
      ],
      "metadata": {
        "id": "JJ5XC1U7ZCbs"
      }
    },
    {
      "cell_type": "code",
      "source": [
        "# Create arr1 with random integers\n",
        "shape = (3, 4)  # Example shape, you can choose any shape\n",
        "arr1 = np.random.randint(0, 10, size=shape)\n",
        "\n",
        "# Create arr2 with integers from 1 to 10, ensuring no values exceed 10\n",
        "arr2 = np.random.randint(1, 11, size=shape)  # Random integers between 1 and 10\n",
        "\n",
        "# Perform element-wise addition\n",
        "result = arr1 + arr2\n",
        "\n",
        "print(\"arr1:\")\n",
        "print(arr1)\n",
        "print(\"\\narr2:\")\n",
        "print(arr2)\n",
        "print(\"\\nElement-wise addition result:\")\n",
        "print(result)"
      ],
      "metadata": {
        "colab": {
          "base_uri": "https://localhost:8080/"
        },
        "id": "RgjW2OvTYwCC",
        "outputId": "7099fff8-7c4b-422f-c165-5b13cbcbc973"
      },
      "execution_count": null,
      "outputs": [
        {
          "output_type": "stream",
          "name": "stdout",
          "text": [
            "arr1:\n",
            "[[2 4 8 6]\n",
            " [4 3 4 5]\n",
            " [7 4 2 3]]\n",
            "\n",
            "arr2:\n",
            "[[10 10  8  8]\n",
            " [ 1  3 10  6]\n",
            " [ 2  2  5  6]]\n",
            "\n",
            "Element-wise addition result:\n",
            "[[12 14 16 14]\n",
            " [ 5  6 14 11]\n",
            " [ 9  6  7  9]]\n"
          ]
        }
      ]
    },
    {
      "cell_type": "markdown",
      "source": [
        "# 52. Generate a NumPy array `arr1` with sequential integers from 10 to 1 and another array `arr2` with integers from 1 to 10. Subtract `arr2` from `arr1` element-wise."
      ],
      "metadata": {
        "id": "FmclOKMybAcv"
      }
    },
    {
      "cell_type": "code",
      "source": [
        "# Generate arr1 with sequential integers from 10 to 1\n",
        "arr1 = np.arange(10, 0, -1).reshape(2, 5)  # Example shape (2, 5) to fit the range 10 to 1\n",
        "\n",
        "# Generate arr2 with integers from 1 to 10\n",
        "arr2 = np.arange(1, 11).reshape(2, 5)  # Example shape (2, 5) to match arr1's shape\n",
        "\n",
        "# Perform element-wise subtraction\n",
        "result = arr1 - arr2\n",
        "\n",
        "print(\"arr1:\")\n",
        "print(arr1)\n",
        "print(\"\\narr2:\")\n",
        "print(arr2)\n",
        "print(\"\\nElement-wise subtraction result:\")\n",
        "print(result)"
      ],
      "metadata": {
        "colab": {
          "base_uri": "https://localhost:8080/"
        },
        "id": "87F2S_TtaJ73",
        "outputId": "375123af-26df-4ada-84a8-ac2ac3397110"
      },
      "execution_count": null,
      "outputs": [
        {
          "output_type": "stream",
          "name": "stdout",
          "text": [
            "arr1:\n",
            "[[10  9  8  7  6]\n",
            " [ 5  4  3  2  1]]\n",
            "\n",
            "arr2:\n",
            "[[ 1  2  3  4  5]\n",
            " [ 6  7  8  9 10]]\n",
            "\n",
            "Element-wise subtraction result:\n",
            "[[ 9  7  5  3  1]\n",
            " [-1 -3 -5 -7 -9]]\n"
          ]
        }
      ]
    },
    {
      "cell_type": "markdown",
      "source": [
        "# 53. Create a NumPy array `arr1` with random integers and another array `arr2` with integers from 1 to 5. Perform element-wise multiplication between `arr1` and `arr2`"
      ],
      "metadata": {
        "id": "CBcGfOXQbjhR"
      }
    },
    {
      "cell_type": "code",
      "source": [
        "# Generate arr1 with random integers\n",
        "shape = (3, 4)  # Example shape\n",
        "arr1 = np.random.randint(1, 10, size=shape)  # Random integers between 1 and 9\n",
        "\n",
        "# Generate arr2 with integers from 1 to 5, reshaped to match arr1's shape\n",
        "# Adjust size of arr2 to match arr1's shape\n",
        "arr2 = np.random.randint(1, 6, size=shape)  # Random integers between 1 and 5\n",
        "\n",
        "# Perform element-wise multiplication\n",
        "result = arr1 * arr2\n",
        "\n",
        "print(\"arr1:\")\n",
        "print(arr1)\n",
        "print(\"\\narr2:\")\n",
        "print(arr2)\n",
        "print(\"\\nElement-wise multiplication result:\")\n",
        "print(result)"
      ],
      "metadata": {
        "colab": {
          "base_uri": "https://localhost:8080/"
        },
        "id": "oL5TzjeubfnC",
        "outputId": "cf65ec0b-e33d-4f90-c799-48764dee7d3f"
      },
      "execution_count": null,
      "outputs": [
        {
          "output_type": "stream",
          "name": "stdout",
          "text": [
            "arr1:\n",
            "[[8 7 3 9]\n",
            " [8 6 9 6]\n",
            " [7 8 8 7]]\n",
            "\n",
            "arr2:\n",
            "[[5 3 4 5]\n",
            " [5 3 3 1]\n",
            " [2 3 4 5]]\n",
            "\n",
            "Element-wise multiplication result:\n",
            "[[40 21 12 45]\n",
            " [40 18 27  6]\n",
            " [14 24 32 35]]\n"
          ]
        }
      ]
    },
    {
      "cell_type": "markdown",
      "source": [
        "# 54. Generate a NumPy array `arr1` with even integers from 2 to 10 and another array `arr2` with integers from 1 to 5. Perform element-wise division of `arr1` by `arr2`."
      ],
      "metadata": {
        "id": "malfwkcOd6iv"
      }
    },
    {
      "cell_type": "code",
      "source": [
        " # Generate arr1 with even integers from 2 to 10\n",
        "arr1 = np.arange(2, 11, 2).reshape(1, 5)  # Reshape to (1, 5) for broadcasting\n",
        "\n",
        "# Generate arr2 with integers from 1 to 5\n",
        "arr2 = np.arange(1, 6).reshape(1, 5)  # Reshape to (1, 5) to match arr1's shape\n",
        "\n",
        "# Perform element-wise division\n",
        "result = arr1 / arr2\n",
        "\n",
        "print(\"arr1:\")\n",
        "print(arr1)\n",
        "print(\"\\narr2:\")\n",
        "print(arr2)\n",
        "print(\"\\nElement-wise division result:\")\n",
        "print(result)"
      ],
      "metadata": {
        "colab": {
          "base_uri": "https://localhost:8080/"
        },
        "id": "Z0EnT2SLdYWn",
        "outputId": "208e8913-0851-4dc2-acec-0b5c79efb7cc"
      },
      "execution_count": null,
      "outputs": [
        {
          "output_type": "stream",
          "name": "stdout",
          "text": [
            "arr1:\n",
            "[[ 2  4  6  8 10]]\n",
            "\n",
            "arr2:\n",
            "[[1 2 3 4 5]]\n",
            "\n",
            "Element-wise division result:\n",
            "[[2. 2. 2. 2. 2.]]\n"
          ]
        }
      ]
    },
    {
      "cell_type": "markdown",
      "source": [
        "# 55. Create a NumPy array `arr1` with integers from 1 to 5 and another array `arr2` with the same numbers reversed. Calculate the exponentiation of `arr1` raised to the power of `arr2` element-wise"
      ],
      "metadata": {
        "id": "SDLwfOaTeS7h"
      }
    },
    {
      "cell_type": "code",
      "source": [
        "# Create arr1 with integers from 1 to 5\n",
        "arr1 = np.arange(1, 6)\n",
        "\n",
        "# Create arr2 with the same numbers reversed\n",
        "arr2 = arr1[::-1]  # Reverse the array\n",
        "\n",
        "# Calculate the exponentiation of arr1 raised to the power of arr2 element-wise\n",
        "result = np.power(arr1, arr2)\n",
        "\n",
        "print(\"arr1:\")\n",
        "print(arr1)\n",
        "print(\"\\narr2:\")\n",
        "print(arr2)\n",
        "print(\"\\nExponentiation result (arr1 ^ arr2):\")\n",
        "print(result)"
      ],
      "metadata": {
        "colab": {
          "base_uri": "https://localhost:8080/"
        },
        "id": "dVCW_naoeNqe",
        "outputId": "3d148399-6995-48dc-a7fa-c87d748547a4"
      },
      "execution_count": null,
      "outputs": [
        {
          "output_type": "stream",
          "name": "stdout",
          "text": [
            "arr1:\n",
            "[1 2 3 4 5]\n",
            "\n",
            "arr2:\n",
            "[5 4 3 2 1]\n",
            "\n",
            "Exponentiation result (arr1 ^ arr2):\n",
            "[ 1 16 27 16  5]\n"
          ]
        }
      ]
    },
    {
      "cell_type": "markdown",
      "source": [
        "# 56. Write a function that counts the occurrences of a specific substring within a NumPy array of strings.\n",
        " arr = np.array(['hello', 'world', 'hello', 'numpy', 'hello'])"
      ],
      "metadata": {
        "id": "tfLNsuKXeuMR"
      }
    },
    {
      "cell_type": "code",
      "source": [
        "def count_substring_occurrences(arr, substring):\n",
        "  # Convert the array to a list of strings if it's not already\n",
        "    arr = arr.astype(str)\n",
        "\n",
        "    # Use numpy's vectorized string operations to find the substring\n",
        "    occurrences = np.char.find(arr, substring) != -1\n",
        "\n",
        "    # Count the number of True values in the boolean array\n",
        "    count = np.sum(occurrences)\n",
        "\n",
        "    return count\n",
        "\n",
        "# Example usage\n",
        "arr = np.array(['hello', 'world', 'hello', 'numpy', 'hello'])\n",
        "substring = 'hello'\n",
        "count = count_substring_occurrences(arr, substring)\n",
        "\n",
        "print(f\"Occurrences of '{substring}':\", count)"
      ],
      "metadata": {
        "colab": {
          "base_uri": "https://localhost:8080/"
        },
        "id": "FggfjFHpemWw",
        "outputId": "d0286711-92f8-474d-bb6a-9ad482fc88c8"
      },
      "execution_count": null,
      "outputs": [
        {
          "output_type": "stream",
          "name": "stdout",
          "text": [
            "Occurrences of 'hello': 3\n"
          ]
        }
      ]
    },
    {
      "cell_type": "markdown",
      "source": [
        "# 57. Write a function that extracts uppercase characters from a NumPy array of strings.\n",
        " arr = np.array(['Hello', 'World', 'OpenAI', 'GPT'])"
      ],
      "metadata": {
        "id": "uAH5cHnDgV95"
      }
    },
    {
      "cell_type": "code",
      "source": [
        "def extract_uppercase(arr):\n",
        "      # Convert array to string type (in case it's not already)\n",
        "    arr = arr.astype(str)\n",
        "\n",
        "    # Extract uppercase characters from each string\n",
        "    def get_uppercase(s):\n",
        "        return ''.join(char for char in s if char.isupper())\n",
        "\n",
        "    # Apply the function to each element in the array\n",
        "    result = np.array([get_uppercase(s) for s in arr])\n",
        "\n",
        "    return result\n",
        "\n",
        "# Example usage\n",
        "arr = np.array(['Hello', 'World', 'OpenAI', 'GPT'])\n",
        "result = extract_uppercase(arr)\n",
        "\n",
        "print(\"Original array:\")\n",
        "print(arr)\n",
        "print(\"\\nArray with uppercase characters extracted:\")\n",
        "print(result)\n"
      ],
      "metadata": {
        "colab": {
          "base_uri": "https://localhost:8080/"
        },
        "id": "OcR9771ifc1g",
        "outputId": "bcfc68d0-5a90-4698-9b04-8d140dbb9739"
      },
      "execution_count": null,
      "outputs": [
        {
          "output_type": "stream",
          "name": "stdout",
          "text": [
            "Original array:\n",
            "['Hello' 'World' 'OpenAI' 'GPT']\n",
            "\n",
            "Array with uppercase characters extracted:\n",
            "['H' 'W' 'OAI' 'GPT']\n"
          ]
        }
      ]
    },
    {
      "cell_type": "markdown",
      "source": [
        "# 58. Write a function that replaces occurrences of a substring in a NumPy array of strings with a new string.\n",
        " arr = np.array(['apple', 'banana', 'grape', 'pineapple'])"
      ],
      "metadata": {
        "id": "bgvbDb9mr5vc"
      }
    },
    {
      "cell_type": "code",
      "source": [
        "import numpy as np\n",
        "def replace_substring(arr, old_substring, new_substring):\n",
        "   # Convert array to string type (in case it's not already)\n",
        "    arr = arr.astype(str)\n",
        "\n",
        "    # Replace old substring with new substring\n",
        "    replaced = np.char.replace(arr, old_substring, new_substring)\n",
        "\n",
        "    return replaced\n",
        "\n",
        "# Example usage\n",
        "arr = np.array(['apple', 'banana', 'grape', 'pineapple'])\n",
        "old_substring = 'apple'\n",
        "new_substring = 'orange'\n",
        "result = replace_substring(arr, old_substring, new_substring)\n",
        "\n",
        "print(\"Original array:\")\n",
        "print(arr)\n",
        "print(\"\\nArray after replacement:\")\n",
        "print(result)"
      ],
      "metadata": {
        "id": "vFlOC7-wghqD",
        "colab": {
          "base_uri": "https://localhost:8080/"
        },
        "outputId": "117c2f39-f659-4509-d6ce-a169744e0aec"
      },
      "execution_count": 2,
      "outputs": [
        {
          "output_type": "stream",
          "name": "stdout",
          "text": [
            "Original array:\n",
            "['apple' 'banana' 'grape' 'pineapple']\n",
            "\n",
            "Array after replacement:\n",
            "['orange' 'banana' 'grape' 'pineorange']\n"
          ]
        }
      ]
    },
    {
      "cell_type": "markdown",
      "source": [
        "# 59. Write a function that concatenates strings in a NumPy array element-wise.\n",
        " arr1 = np.array(['Hello', 'World'])\n",
        "\n",
        " arr2 = np.array(['Open', 'AI'])"
      ],
      "metadata": {
        "id": "MjTZ0G8-sZQ5"
      }
    },
    {
      "cell_type": "code",
      "source": [
        "def concatenate_strings(arr1, arr2):\n",
        "   # Convert arrays to string type (in case they're not already)\n",
        "    arr1 = arr1.astype(str)\n",
        "    arr2 = arr2.astype(str)\n",
        "\n",
        "    # Concatenate corresponding elements from both arrays\n",
        "    concatenated = np.char.add(arr1, arr2)\n",
        "\n",
        "    return concatenated\n",
        "\n",
        "# Example usage\n",
        "arr1 = np.array(['Hello', 'World'])\n",
        "arr2 = np.array(['Open', 'AI'])\n",
        "result = concatenate_strings(arr1, arr2)\n",
        "\n",
        "print(\"Array 1:\")\n",
        "print(arr1)\n",
        "print(\"\\nArray 2:\")\n",
        "print(arr2)\n",
        "print(\"\\nArray after concatenation:\")\n",
        "print(result)"
      ],
      "metadata": {
        "colab": {
          "base_uri": "https://localhost:8080/"
        },
        "id": "ASPvje6xsIo_",
        "outputId": "c3a24174-dc04-47e7-ebfe-2792552dab33"
      },
      "execution_count": 3,
      "outputs": [
        {
          "output_type": "stream",
          "name": "stdout",
          "text": [
            "Array 1:\n",
            "['Hello' 'World']\n",
            "\n",
            "Array 2:\n",
            "['Open' 'AI']\n",
            "\n",
            "Array after concatenation:\n",
            "['HelloOpen' 'WorldAI']\n"
          ]
        }
      ]
    },
    {
      "cell_type": "markdown",
      "source": [
        "# 60. Write a function that finds the length of the longest string in a NumPy array.\n",
        " arr = np.array(['apple', 'banana', 'grape', 'pineapple'])\n",
        "\n",
        " arr = np.array(['apple', 'banana', 'grape', 'pineapple'])"
      ],
      "metadata": {
        "id": "zpSZRoQosq4V"
      }
    },
    {
      "cell_type": "code",
      "source": [
        "def longest_string_length(arr):\n",
        "  # Convert array to string type (in case it's not already)\n",
        "    arr = arr.astype(str)\n",
        "\n",
        "    # Find the length of each string\n",
        "    lengths = np.char.str_len(arr)\n",
        "\n",
        "    # Find the maximum length\n",
        "    max_length = np.max(lengths)\n",
        "\n",
        "    return max_length\n",
        "\n",
        "# Example usage\n",
        "arr = np.array(['apple', 'banana', 'grape', 'pineapple'])\n",
        "result = longest_string_length(arr)\n",
        "\n",
        "print(\"Array:\")\n",
        "print(arr)\n",
        "print(\"\\nLength of the longest string:\")\n",
        "print(result)"
      ],
      "metadata": {
        "colab": {
          "base_uri": "https://localhost:8080/"
        },
        "id": "9ZxVDeKCsjrM",
        "outputId": "30e49505-d0f9-4c2d-950e-612e2b09493c"
      },
      "execution_count": 4,
      "outputs": [
        {
          "output_type": "stream",
          "name": "stdout",
          "text": [
            "Array:\n",
            "['apple' 'banana' 'grape' 'pineapple']\n",
            "\n",
            "Length of the longest string:\n",
            "9\n"
          ]
        }
      ]
    },
    {
      "cell_type": "markdown",
      "source": [
        "# 61. Create a dataset of 100 random integers between 1 and 1000. Compute the mean, median, variance, and standard deviation of the dataset using NumPy's functions"
      ],
      "metadata": {
        "id": "M2LDpnrss4-2"
      }
    },
    {
      "cell_type": "code",
      "source": [
        "# Generate a dataset of 100 random integers between 1 and 1000\n",
        "data = np.random.randint(1, 1001, size=100)\n",
        "\n",
        "# Compute statistics\n",
        "mean = np.mean(data)\n",
        "median = np.median(data)\n",
        "variance = np.var(data)\n",
        "std_dev = np.std(data)\n",
        "\n",
        "# Print results\n",
        "print(\"Dataset:\")\n",
        "print(data)\n",
        "print(\"\\nMean:\", mean)\n",
        "print(\"Median:\", median)\n",
        "print(\"Variance:\", variance)\n",
        "print(\"Standard Deviation:\", std_dev)"
      ],
      "metadata": {
        "colab": {
          "base_uri": "https://localhost:8080/"
        },
        "id": "6oPsg7kKs11n",
        "outputId": "801ad231-1977-4f45-e1a7-807d31972981"
      },
      "execution_count": 5,
      "outputs": [
        {
          "output_type": "stream",
          "name": "stdout",
          "text": [
            "Dataset:\n",
            "[717 682 343  20 531  81 368 362 571 289 575 613 351 209 112 912 521 770\n",
            " 562 406 594 988  74 105 555 284 800 747 173 128 312 192  32  41 592  24\n",
            " 290 541 701 973  30 606 851 544 512 636 838 540 679 409 739 600 650 544\n",
            " 679 312 835 710  25 652 820 803 447 441 379 861 569 379 479 652 686 516\n",
            " 137 805 874 747 426 357 331 452 345 994 196 996 914 880 282 526 986 621\n",
            " 938 724 929 676 880 338  31 748 450 655]\n",
            "\n",
            "Mean: 528.02\n",
            "Median: 549.5\n",
            "Variance: 73450.35960000003\n",
            "Standard Deviation: 271.01726808452634\n"
          ]
        }
      ]
    },
    {
      "cell_type": "markdown",
      "source": [
        "# 62. Generate an array of 50 random numbers between 1 and 100. Find the 25th and 75th percentiles of the dataset."
      ],
      "metadata": {
        "id": "pOCQGv-TtG5f"
      }
    },
    {
      "cell_type": "code",
      "source": [
        "# Generate an array of 50 random numbers between 1 and 100\n",
        "data = np.random.randint(1, 101, size=50)\n",
        "\n",
        "# Calculate the 25th and 75th percentiles\n",
        "percentile_25 = np.percentile(data, 25)\n",
        "percentile_75 = np.percentile(data, 75)\n",
        "\n",
        "# Print results\n",
        "print(\"Dataset:\")\n",
        "print(data)\n",
        "print(\"\\n25th Percentile:\", percentile_25)\n",
        "print(\"75th Percentile:\", percentile_75)"
      ],
      "metadata": {
        "colab": {
          "base_uri": "https://localhost:8080/"
        },
        "id": "GHFpaVGutFIh",
        "outputId": "8368b85b-f21d-4481-e464-8a0078862303"
      },
      "execution_count": 6,
      "outputs": [
        {
          "output_type": "stream",
          "name": "stdout",
          "text": [
            "Dataset:\n",
            "[98 99 34 48  8 83 58 46  1 81 67 85 62 34 20 12 78 29 36 79 88 73 98 58\n",
            " 39 17 49 56 48 11 84 45 97  8 30 16 25 38 43 88 69 27 23 26 65 39 65  9\n",
            " 85 92]\n",
            "\n",
            "25th Percentile: 27.5\n",
            "75th Percentile: 78.75\n"
          ]
        }
      ]
    },
    {
      "cell_type": "markdown",
      "source": [
        "# 63. Create two arrays representing two sets of variables. Compute the correlation coefficient between these arrays using NumPy's `corrcoef` function."
      ],
      "metadata": {
        "id": "fZ_2OcPstUCq"
      }
    },
    {
      "cell_type": "code",
      "source": [
        "# Create two arrays representing two sets of variables\n",
        "array1 = np.array([1, 2, 3, 4, 5])\n",
        "array2 = np.array([5, 4, 3, 2, 1])\n",
        "\n",
        "# Compute the correlation coefficient matrix\n",
        "corr_matrix = np.corrcoef(array1, array2)\n",
        "\n",
        "# Extract the correlation coefficient between the two arrays\n",
        "corr_coefficient = corr_matrix[0, 1]\n",
        "\n",
        "# Print results\n",
        "print(\"Array 1:\")\n",
        "print(array1)\n",
        "print(\"\\nArray 2:\")\n",
        "print(array2)\n",
        "print(\"\\nCorrelation Coefficient Matrix:\")\n",
        "print(corr_matrix)\n",
        "print(\"\\nCorrelation Coefficient between Array 1 and Array 2:\")\n",
        "print(corr_coefficient)"
      ],
      "metadata": {
        "colab": {
          "base_uri": "https://localhost:8080/"
        },
        "id": "Q_VT79hptQ4W",
        "outputId": "9b581b31-9afb-4bc9-8d66-a7564c349708"
      },
      "execution_count": 7,
      "outputs": [
        {
          "output_type": "stream",
          "name": "stdout",
          "text": [
            "Array 1:\n",
            "[1 2 3 4 5]\n",
            "\n",
            "Array 2:\n",
            "[5 4 3 2 1]\n",
            "\n",
            "Correlation Coefficient Matrix:\n",
            "[[ 1. -1.]\n",
            " [-1.  1.]]\n",
            "\n",
            "Correlation Coefficient between Array 1 and Array 2:\n",
            "-0.9999999999999999\n"
          ]
        }
      ]
    },
    {
      "cell_type": "markdown",
      "source": [
        "# 64. Create two matrices and perform matrix multiplication using NumPy's `dot` function."
      ],
      "metadata": {
        "id": "Mtb6zZjntcGD"
      }
    },
    {
      "cell_type": "code",
      "source": [
        "# Create two matrices\n",
        "matrix1 = np.array([[1, 2, 3],\n",
        "                    [4, 5, 6]])\n",
        "\n",
        "matrix2 = np.array([[7, 8],\n",
        "                    [9, 10],\n",
        "                    [11, 12]])\n",
        "\n",
        "# Perform matrix multiplication\n",
        "result = np.dot(matrix1, matrix2)\n",
        "\n",
        "# Print results\n",
        "print(\"Matrix 1:\")\n",
        "print(matrix1)\n",
        "print(\"\\nMatrix 2:\")\n",
        "print(matrix2)\n",
        "print(\"\\nMatrix Multiplication Result:\")\n",
        "print(result)"
      ],
      "metadata": {
        "colab": {
          "base_uri": "https://localhost:8080/"
        },
        "id": "nUboP6nita-P",
        "outputId": "29276d9a-dd5f-4699-e851-96e5c6ce0497"
      },
      "execution_count": 8,
      "outputs": [
        {
          "output_type": "stream",
          "name": "stdout",
          "text": [
            "Matrix 1:\n",
            "[[1 2 3]\n",
            " [4 5 6]]\n",
            "\n",
            "Matrix 2:\n",
            "[[ 7  8]\n",
            " [ 9 10]\n",
            " [11 12]]\n",
            "\n",
            "Matrix Multiplication Result:\n",
            "[[ 58  64]\n",
            " [139 154]]\n"
          ]
        }
      ]
    },
    {
      "cell_type": "markdown",
      "source": [
        "# 65. Create an array of 50 integers between 10 and 1000. Calculate the 10th, 50th (median), and 90th percentiles along with the first and third quartiles."
      ],
      "metadata": {
        "id": "v81cEvsltlw5"
      }
    },
    {
      "cell_type": "code",
      "source": [
        "# Create an array of 50 integers between 10 and 1000\n",
        "data = np.random.randint(10, 1001, size=50)\n",
        "\n",
        "# Calculate the 10th, 50th (median), and 90th percentiles\n",
        "percentile_10 = np.percentile(data, 10)\n",
        "percentile_50 = np.percentile(data, 50)\n",
        "percentile_90 = np.percentile(data, 90)\n",
        "\n",
        "# Calculate the first (25th) and third (75th) quartiles\n",
        "quartile_1 = np.percentile(data, 25)\n",
        "quartile_3 = np.percentile(data, 75)\n",
        "\n",
        "# Print results\n",
        "print(\"Array:\")\n",
        "print(data)\n",
        "print(\"\\n10th Percentile:\", percentile_10)\n",
        "print(\"50th Percentile (Median):\", percentile_50)\n",
        "print(\"90th Percentile:\", percentile_90)\n",
        "print(\"First Quartile (25th Percentile):\", quartile_1)\n",
        "print(\"Third Quartile (75th Percentile):\", quartile_3)"
      ],
      "metadata": {
        "colab": {
          "base_uri": "https://localhost:8080/"
        },
        "id": "PBTno-3htkuF",
        "outputId": "407709e8-e6b5-4c76-e0dc-cd2ef16e8df3"
      },
      "execution_count": 9,
      "outputs": [
        {
          "output_type": "stream",
          "name": "stdout",
          "text": [
            "Array:\n",
            "[637 731 109 928 306 321 688 890 426 304 769 940 315 426 724 888 122 984\n",
            " 247 127 358 323 823 377 428 555 218 794 254 280  58 883 921 612  81 540\n",
            " 276 617 285 951 467 480 486 629 930 678 775 444 255 102]\n",
            "\n",
            "10th Percentile: 126.5\n",
            "50th Percentile (Median): 473.5\n",
            "90th Percentile: 921.7\n",
            "First Quartile (25th Percentile): 289.75\n",
            "Third Quartile (75th Percentile): 759.5\n"
          ]
        }
      ]
    },
    {
      "cell_type": "markdown",
      "source": [
        "# 66. Create a NumPy array of integers and find the index of a specific element."
      ],
      "metadata": {
        "id": "JI2gVxVCt7jg"
      }
    },
    {
      "cell_type": "code",
      "source": [
        "# Create a NumPy array of integers\n",
        "array = np.array([10, 20, 30, 40, 50, 60, 70, 80, 90, 100])\n",
        "\n",
        "# Specify the element to find\n",
        "element_to_find = 50\n",
        "\n",
        "# Find the index of the specific element\n",
        "indices = np.where(array == element_to_find)\n",
        "\n",
        "# Print results\n",
        "print(\"Array:\")\n",
        "print(array)\n",
        "print(\"\\nElement to find:\", element_to_find)\n",
        "print(\"Index of the element:\", indices[0])"
      ],
      "metadata": {
        "colab": {
          "base_uri": "https://localhost:8080/"
        },
        "id": "792fULDht1Vv",
        "outputId": "b717b78b-b674-496c-a85e-cfdbb17957bb"
      },
      "execution_count": 10,
      "outputs": [
        {
          "output_type": "stream",
          "name": "stdout",
          "text": [
            "Array:\n",
            "[ 10  20  30  40  50  60  70  80  90 100]\n",
            "\n",
            "Element to find: 50\n",
            "Index of the element: [4]\n"
          ]
        }
      ]
    },
    {
      "cell_type": "markdown",
      "source": [
        "# 67. Generate a random NumPy array and sort it in ascending order."
      ],
      "metadata": {
        "id": "HNTN7phjuExT"
      }
    },
    {
      "cell_type": "code",
      "source": [
        "# Generate a random NumPy array\n",
        "array = np.random.randint(1, 101, size=20)  # Example: 20 random integers between 1 and 100\n",
        "\n",
        "# Sort the array in ascending order\n",
        "sorted_array = np.sort(array)\n",
        "\n",
        "# Print results\n",
        "print(\"Original Array:\")\n",
        "print(array)\n",
        "print(\"\\nSorted Array:\")\n",
        "print(sorted_array)"
      ],
      "metadata": {
        "colab": {
          "base_uri": "https://localhost:8080/"
        },
        "id": "gZiGa72UuBS8",
        "outputId": "4570a8ed-baa0-409c-e9e4-47f5ea25c599"
      },
      "execution_count": 11,
      "outputs": [
        {
          "output_type": "stream",
          "name": "stdout",
          "text": [
            "Original Array:\n",
            "[ 3 20 30 21  4 66 16 55 18 16 14 86 79 39 17 78  4 80 10 75]\n",
            "\n",
            "Sorted Array:\n",
            "[ 3  4  4 10 14 16 16 17 18 20 21 30 39 55 66 75 78 79 80 86]\n"
          ]
        }
      ]
    },
    {
      "cell_type": "markdown",
      "source": [
        "# 68. Filter elements >20  in the given NumPy array.\n",
        "\n",
        " arr = np.array([12, 25, 6, 42, 8, 30])"
      ],
      "metadata": {
        "id": "aoC7_hVmuMPS"
      }
    },
    {
      "cell_type": "code",
      "source": [
        "# Create the NumPy array\n",
        "arr = np.array([12, 25, 6, 42, 8, 30])\n",
        "\n",
        "# Filter elements greater than 20\n",
        "filtered_elements = arr[arr > 20]\n",
        "\n",
        "# Print results\n",
        "print(\"Original Array:\")\n",
        "print(arr)\n",
        "print(\"\\nFiltered Elements (greater than 20):\")\n",
        "print(filtered_elements)"
      ],
      "metadata": {
        "colab": {
          "base_uri": "https://localhost:8080/"
        },
        "id": "d3IcsXphuLKR",
        "outputId": "ecd7ead2-e0fe-440d-ea45-28770ced351d"
      },
      "execution_count": 12,
      "outputs": [
        {
          "output_type": "stream",
          "name": "stdout",
          "text": [
            "Original Array:\n",
            "[12 25  6 42  8 30]\n",
            "\n",
            "Filtered Elements (greater than 20):\n",
            "[25 42 30]\n"
          ]
        }
      ]
    },
    {
      "cell_type": "markdown",
      "source": [
        "# 69. **Filter** elements which are divisible by 3 from a given NumPy array.\n",
        " arr = np.array([1, 5, 8, 12, 15])"
      ],
      "metadata": {
        "id": "f-PKTKnbuc9O"
      }
    },
    {
      "cell_type": "code",
      "source": [
        "# Create the NumPy array\n",
        "arr = np.array([1, 5, 8, 12, 15])\n",
        "\n",
        "# Filter elements divisible by 3\n",
        "filtered_elements = arr[arr % 3 == 0]\n",
        "\n",
        "# Print results\n",
        "print(\"Original Array:\")\n",
        "print(arr)\n",
        "print(\"\\nFiltered Elements (divisible by 3):\")\n",
        "print(filtered_elements)"
      ],
      "metadata": {
        "colab": {
          "base_uri": "https://localhost:8080/"
        },
        "id": "EY455-P6uZjL",
        "outputId": "177fe90d-2d90-43e7-a5ea-20b3c2f5424f"
      },
      "execution_count": 13,
      "outputs": [
        {
          "output_type": "stream",
          "name": "stdout",
          "text": [
            "Original Array:\n",
            "[ 1  5  8 12 15]\n",
            "\n",
            "Filtered Elements (divisible by 3):\n",
            "[12 15]\n"
          ]
        }
      ]
    },
    {
      "cell_type": "markdown",
      "source": [
        "# 70. Filter elements which are ≥ 20 and ≤ 40 from a given NumPy array.\n",
        " arr = np.array([10, 20, 30, 40, 50])"
      ],
      "metadata": {
        "id": "u2zkLtgKulsJ"
      }
    },
    {
      "cell_type": "code",
      "source": [
        "# Create the NumPy array\n",
        "arr = np.array([10, 20, 30, 40, 50])\n",
        "\n",
        "# Filter elements ≥ 20 and ≤ 40\n",
        "filtered_elements = arr[(arr >= 20) & (arr <= 40)]\n",
        "\n",
        "# Print results\n",
        "print(\"Original Array:\")\n",
        "print(arr)\n",
        "print(\"\\nFiltered Elements (≥ 20 and ≤ 40):\")\n",
        "print(filtered_elements)"
      ],
      "metadata": {
        "colab": {
          "base_uri": "https://localhost:8080/"
        },
        "id": "gSQg0GxMuj2v",
        "outputId": "7592711e-381d-4e47-d5dc-9bf60cfba83a"
      },
      "execution_count": 14,
      "outputs": [
        {
          "output_type": "stream",
          "name": "stdout",
          "text": [
            "Original Array:\n",
            "[10 20 30 40 50]\n",
            "\n",
            "Filtered Elements (≥ 20 and ≤ 40):\n",
            "[20 30 40]\n"
          ]
        }
      ]
    },
    {
      "cell_type": "markdown",
      "source": [
        "# 71. For the given NumPy array, check its byte order using the `dtype` attribute byteorder.\n",
        " arr = np.array([1, 2, 3])\n"
      ],
      "metadata": {
        "id": "biG8_xv0uzFo"
      }
    },
    {
      "cell_type": "code",
      "source": [
        "# Create the NumPy array\n",
        "arr = np.array([1, 2, 3])\n",
        "\n",
        "# Check the byte order\n",
        "byte_order = arr.dtype.byteorder\n",
        "\n",
        "# Print results\n",
        "print(\"Array:\")\n",
        "print(arr)\n",
        "print(\"\\nByte Order:\", byte_order)"
      ],
      "metadata": {
        "colab": {
          "base_uri": "https://localhost:8080/"
        },
        "id": "nW-d-TCHutiF",
        "outputId": "43c7e440-9da4-4756-be81-0facd268441d"
      },
      "execution_count": 15,
      "outputs": [
        {
          "output_type": "stream",
          "name": "stdout",
          "text": [
            "Array:\n",
            "[1 2 3]\n",
            "\n",
            "Byte Order: =\n"
          ]
        }
      ]
    },
    {
      "cell_type": "markdown",
      "source": [
        "# 72. For the given NumPy array, perform byte swapping in place using `byteswap()`.\n",
        " arr = np.array([1, 2, 3], dtype=np.int32)"
      ],
      "metadata": {
        "id": "WFSSQXVSvDLG"
      }
    },
    {
      "cell_type": "code",
      "source": [
        "# Create the NumPy array with a specific dtype\n",
        "arr = np.array([1, 2, 3], dtype=np.int32)\n",
        "\n",
        "# Print the original array and its byte order\n",
        "print(\"Original Array:\")\n",
        "print(arr)\n",
        "print(\"Byte Order (before swapping):\", arr.dtype.byteorder)\n",
        "\n",
        "# Perform byte swapping in place\n",
        "arr.byteswap(inplace=True)\n",
        "\n",
        "# Print the swapped array and its byte order\n",
        "print(\"\\nArray after Byte Swapping:\")\n",
        "print(arr)\n",
        "print(\"Byte Order (after swapping):\", arr.dtype.byteorder)"
      ],
      "metadata": {
        "colab": {
          "base_uri": "https://localhost:8080/"
        },
        "id": "ObfuRmiEu58x",
        "outputId": "0e234853-e0b9-4cf7-d96f-16f15ff334b3"
      },
      "execution_count": 16,
      "outputs": [
        {
          "output_type": "stream",
          "name": "stdout",
          "text": [
            "Original Array:\n",
            "[1 2 3]\n",
            "Byte Order (before swapping): =\n",
            "\n",
            "Array after Byte Swapping:\n",
            "[16777216 33554432 50331648]\n",
            "Byte Order (after swapping): =\n"
          ]
        }
      ]
    },
    {
      "cell_type": "markdown",
      "source": [
        "# 73. For the given NumPy array, swap its byte order without modifying the original array using `newbyteorder()`.\n",
        " arr = np.array([1, 2, 3], dtype=np.int32)"
      ],
      "metadata": {
        "id": "kNZNOQdEvMo3"
      }
    },
    {
      "cell_type": "code",
      "source": [
        "\n",
        "# Create the NumPy array with a specific dtype\n",
        "arr = np.array([1, 2, 3], dtype=np.int32)\n",
        "\n",
        "# Print the original array\n",
        "print(\"Original Array:\")\n",
        "print(arr)\n",
        "print(\"Original Array (byte order):\", arr.dtype.byteorder)\n",
        "\n",
        "# Swap byte order without modifying the original array\n",
        "swapped_arr = arr.newbyteorder()\n",
        "\n",
        "# Print the new array with swapped byte order\n",
        "print(\"\\nArray with Swapped Byte Order:\")\n",
        "print(swapped_arr)\n",
        "print(\"Swapped Array (byte order):\", swapped_arr.dtype.byteorder)"
      ],
      "metadata": {
        "colab": {
          "base_uri": "https://localhost:8080/"
        },
        "id": "bnqCOcoLvJYF",
        "outputId": "f26ceff6-c92e-4a41-e061-9999af649722"
      },
      "execution_count": 17,
      "outputs": [
        {
          "output_type": "stream",
          "name": "stdout",
          "text": [
            "Original Array:\n",
            "[1 2 3]\n",
            "Original Array (byte order): =\n",
            "\n",
            "Array with Swapped Byte Order:\n",
            "[16777216 33554432 50331648]\n",
            "Swapped Array (byte order): >\n"
          ]
        }
      ]
    },
    {
      "cell_type": "markdown",
      "source": [
        "# 74. For the given NumPy array and swap its byte order conditionally based on system endianness using `newbyteorder()`.\n",
        " arr = np.array([1, 2, 3], dtype=np.int32)"
      ],
      "metadata": {
        "id": "xcpUYnSxvcpg"
      }
    },
    {
      "cell_type": "code",
      "source": [
        "import numpy as np\n",
        "import sys\n",
        "\n",
        "# Create the NumPy array with a specific dtype\n",
        "arr = np.array([1, 2, 3], dtype=np.int32)\n",
        "\n",
        "# Check the system's endianness\n",
        "system_endianness = 'little' if sys.byteorder == 'little' else 'big'\n",
        "\n",
        "# Determine the desired endianness for the new byte order\n",
        "desired_endianness = 'big' if system_endianness == 'little' else 'little'\n",
        "\n",
        "# Swap byte order conditionally based on system endianness\n",
        "if arr.dtype.byteorder != desired_endianness:\n",
        "    swapped_arr = arr.newbyteorder(desired_endianness)\n",
        "else:\n",
        "    swapped_arr = arr.copy()  # No change needed if already in desired endianness\n",
        "\n",
        "# Print results\n",
        "print(\"Original Array:\")\n",
        "print(arr)\n",
        "print(\"Original Array (byte order):\", arr.dtype.byteorder)\n",
        "\n",
        "print(\"\\nSwapped Array:\")\n",
        "print(swapped_arr)\n",
        "print(\"Swapped Array (byte order):\", swapped_arr.dtype.byteorder)"
      ],
      "metadata": {
        "colab": {
          "base_uri": "https://localhost:8080/"
        },
        "id": "9p48BJNdvY-F",
        "outputId": "8a39ae2a-bb1a-4301-e957-197401c7ab86"
      },
      "execution_count": 18,
      "outputs": [
        {
          "output_type": "stream",
          "name": "stdout",
          "text": [
            "Original Array:\n",
            "[1 2 3]\n",
            "Original Array (byte order): =\n",
            "\n",
            "Swapped Array:\n",
            "[16777216 33554432 50331648]\n",
            "Swapped Array (byte order): >\n"
          ]
        }
      ]
    },
    {
      "cell_type": "markdown",
      "source": [
        "# 75. For the given NumPy array, check if byte swapping is necessary for the current system using `dtype` attribute `byteorder`.\n",
        " arr = np.array([1, 2, 3], dtype=np.int32)"
      ],
      "metadata": {
        "id": "ZEZd0_oUv3IR"
      }
    },
    {
      "cell_type": "code",
      "source": [
        "import sys\n",
        "\n",
        "# Create the NumPy array with a specific dtype\n",
        "arr = np.array([1, 2, 3], dtype=np.int32)\n",
        "\n",
        "# Check the system's endianness\n",
        "system_endianness = sys.byteorder\n",
        "\n",
        "# Check the array's byte order\n",
        "array_byteorder = arr.dtype.byteorder\n",
        "\n",
        "# Determine if byte swapping is necessary\n",
        "if array_byteorder == '=':\n",
        "    # Native byte order, no swapping needed\n",
        "    print(\"Array is in native byte order. No swapping needed.\")\n",
        "elif array_byteorder == system_endianness:\n",
        "    # Array byte order matches system endianness\n",
        "    print(\"Array byte order matches system endianness. No swapping needed.\")\n",
        "else:\n",
        "    # Array byte order does not match system endianness\n",
        "    print(\"Byte swapping needed to match system endianness.\")\n",
        "\n",
        "# Print results for clarity\n",
        "print(\"System Endianness:\", system_endianness)\n",
        "print(\"Array Byte Order:\", array_byteorder)"
      ],
      "metadata": {
        "colab": {
          "base_uri": "https://localhost:8080/"
        },
        "id": "rKTraSWkvqMK",
        "outputId": "84804b54-52a8-4e24-eabe-7cb743015e10"
      },
      "execution_count": 19,
      "outputs": [
        {
          "output_type": "stream",
          "name": "stdout",
          "text": [
            "Array is in native byte order. No swapping needed.\n",
            "System Endianness: little\n",
            "Array Byte Order: =\n"
          ]
        }
      ]
    },
    {
      "cell_type": "markdown",
      "source": [
        "# 76. Create a NumPy array `arr1` with values from 1 to 10. Create a copy of `arr1` named `copy_arr` and modify an element in `copy_arr`. Check if modifying `copy_arr` affects `arr1`"
      ],
      "metadata": {
        "id": "x64J4jFJwIoH"
      }
    },
    {
      "cell_type": "code",
      "source": [
        "import numpy as np\n",
        "\n",
        "# Create the original NumPy array with values from 1 to 10\n",
        "arr1 = np.arange(1, 11)\n",
        "\n",
        "# Create a copy of the original array\n",
        "copy_arr = arr1.copy()\n",
        "\n",
        "# Modify an element in the copied array\n",
        "copy_arr[0] = 100  # Change the first element to 100\n",
        "\n",
        "# Print the original and copied arrays\n",
        "print(\"Original Array (arr1):\")\n",
        "print(arr1)\n",
        "print(\"\\nCopied Array (copy_arr) after modification:\")\n",
        "print(copy_arr)\n",
        "\n",
        "# Check if the modification affected the original array\n",
        "if np.array_equal(arr1, copy_arr):\n",
        "    print(\"\\nModification in copy_arr affected arr1.\")\n",
        "else:\n",
        "    print(\"\\nModification in copy_arr did not affect arr1.\")"
      ],
      "metadata": {
        "colab": {
          "base_uri": "https://localhost:8080/"
        },
        "id": "YswMYnWIv_Lr",
        "outputId": "382d39a5-f7e4-4cc6-c1f9-eb743af82228"
      },
      "execution_count": 20,
      "outputs": [
        {
          "output_type": "stream",
          "name": "stdout",
          "text": [
            "Original Array (arr1):\n",
            "[ 1  2  3  4  5  6  7  8  9 10]\n",
            "\n",
            "Copied Array (copy_arr) after modification:\n",
            "[100   2   3   4   5   6   7   8   9  10]\n",
            "\n",
            "Modification in copy_arr did not affect arr1.\n"
          ]
        }
      ]
    },
    {
      "cell_type": "markdown",
      "source": [
        "# 77. Create a 2D NumPy array `matrix` of shape (3, 3) with random integers. Extract a slice `view_slice` from the matrix. Modify an element in `view_slice` and observe if it changes the original `matrix`."
      ],
      "metadata": {
        "id": "HG5sCUwxwZgy"
      }
    },
    {
      "cell_type": "code",
      "source": [
        "# Create a 2D NumPy array of shape (3, 3) with random integers\n",
        "matrix = np.random.randint(1, 100, size=(3, 3))\n",
        "\n",
        "# Print the original matrix\n",
        "print(\"Original Matrix:\")\n",
        "print(matrix)\n",
        "\n",
        "# Extract a slice from the matrix\n",
        "# For example, taking the sub-array of the first two rows and columns\n",
        "view_slice = matrix[:2, :2]\n",
        "\n",
        "# Print the extracted slice\n",
        "print(\"\\nExtracted Slice:\")\n",
        "print(view_slice)\n",
        "\n",
        "# Modify an element in the slice\n",
        "view_slice[0, 0] = 999\n",
        "\n",
        "# Print the modified slice\n",
        "print(\"\\nModified Slice:\")\n",
        "print(view_slice)\n",
        "\n",
        "# Print the original matrix after modifying the slice\n",
        "print(\"\\nOriginal Matrix after modifying the slice:\")\n",
        "print(matrix)"
      ],
      "metadata": {
        "colab": {
          "base_uri": "https://localhost:8080/"
        },
        "id": "nCoWYsQSwTD2",
        "outputId": "1bf2714a-e702-4649-a1e2-59df277dc135"
      },
      "execution_count": 21,
      "outputs": [
        {
          "output_type": "stream",
          "name": "stdout",
          "text": [
            "Original Matrix:\n",
            "[[64  5 65]\n",
            " [94 15 24]\n",
            " [14 80 56]]\n",
            "\n",
            "Extracted Slice:\n",
            "[[64  5]\n",
            " [94 15]]\n",
            "\n",
            "Modified Slice:\n",
            "[[999   5]\n",
            " [ 94  15]]\n",
            "\n",
            "Original Matrix after modifying the slice:\n",
            "[[999   5  65]\n",
            " [ 94  15  24]\n",
            " [ 14  80  56]]\n"
          ]
        }
      ]
    },
    {
      "cell_type": "markdown",
      "source": [
        "# 78. Create a NumPy array `array_a` of shape (4, 3) with sequential integers from 1 to 12. Extract a slice `view_b` from `array_a` and broadcast the addition of 5 to view_b. Check if it alters the original `array_a`"
      ],
      "metadata": {
        "id": "N2sP4jo3wkic"
      }
    },
    {
      "cell_type": "code",
      "source": [
        "# Create a NumPy array of shape (4, 3) with sequential integers from 1 to 12\n",
        "array_a = np.arange(1, 13).reshape(4, 3)\n",
        "\n",
        "# Print the original array\n",
        "print(\"Original Array (array_a):\")\n",
        "print(array_a)\n",
        "\n",
        "# Extract a slice from the array\n",
        "# For example, taking a sub-array of the first three rows and columns\n",
        "view_b = array_a[:3, :2]\n",
        "\n",
        "# Print the extracted slice\n",
        "print(\"\\nExtracted Slice (view_b):\")\n",
        "print(view_b)\n",
        "\n",
        "# Broadcast addition of 5 to the slice\n",
        "view_b += 5\n",
        "\n",
        "# Print the modified slice\n",
        "print(\"\\nModified Slice (view_b):\")\n",
        "print(view_b)\n",
        "\n",
        "# Print the original array after modifying the slice\n",
        "print(\"\\nOriginal Array after modifying the slice:\")\n",
        "print(array_a)"
      ],
      "metadata": {
        "colab": {
          "base_uri": "https://localhost:8080/"
        },
        "id": "MJo9XuKUwhCG",
        "outputId": "9250c756-3b6c-4ba6-94de-20fabb8e56f7"
      },
      "execution_count": 22,
      "outputs": [
        {
          "output_type": "stream",
          "name": "stdout",
          "text": [
            "Original Array (array_a):\n",
            "[[ 1  2  3]\n",
            " [ 4  5  6]\n",
            " [ 7  8  9]\n",
            " [10 11 12]]\n",
            "\n",
            "Extracted Slice (view_b):\n",
            "[[1 2]\n",
            " [4 5]\n",
            " [7 8]]\n",
            "\n",
            "Modified Slice (view_b):\n",
            "[[ 6  7]\n",
            " [ 9 10]\n",
            " [12 13]]\n",
            "\n",
            "Original Array after modifying the slice:\n",
            "[[ 6  7  3]\n",
            " [ 9 10  6]\n",
            " [12 13  9]\n",
            " [10 11 12]]\n"
          ]
        }
      ]
    },
    {
      "cell_type": "markdown",
      "source": [
        "# 79. Create a NumPy array `orig_array` of shape (2, 4) with values from 1 to 8. Create a reshaped view `reshaped_view` of shape (4, 2) from orig_array. Modify an element in `reshaped_view` and check if it reflects changes in the original `orig_array`."
      ],
      "metadata": {
        "id": "j1fFFOLLw2iI"
      }
    },
    {
      "cell_type": "code",
      "source": [
        "# Create a NumPy array of shape (2, 4) with values from 1 to 8\n",
        "orig_array = np.arange(1, 9).reshape(2, 4)\n",
        "\n",
        "# Print the original array\n",
        "print(\"Original Array (orig_array):\")\n",
        "print(orig_array)\n",
        "\n",
        "# Create a reshaped view of shape (4, 2) from orig_array\n",
        "reshaped_view = orig_array.reshape(4, 2)\n",
        "\n",
        "# Print the reshaped view\n",
        "print(\"\\nReshaped View (reshaped_view):\")\n",
        "print(reshaped_view)\n",
        "\n",
        "# Modify an element in the reshaped view\n",
        "reshaped_view[0, 0] = 99\n",
        "\n",
        "# Print the modified view\n",
        "print(\"\\nModified View (reshaped_view):\")\n",
        "print(reshaped_view)\n",
        "\n",
        "# Print the original array after modifying the view\n",
        "print(\"\\nOriginal Array after modifying the view:\")\n",
        "print(orig_array)"
      ],
      "metadata": {
        "colab": {
          "base_uri": "https://localhost:8080/"
        },
        "id": "LGTUJSO7wxM7",
        "outputId": "0132118b-6bf7-42c2-adbd-c4dd334d94c4"
      },
      "execution_count": 23,
      "outputs": [
        {
          "output_type": "stream",
          "name": "stdout",
          "text": [
            "Original Array (orig_array):\n",
            "[[1 2 3 4]\n",
            " [5 6 7 8]]\n",
            "\n",
            "Reshaped View (reshaped_view):\n",
            "[[1 2]\n",
            " [3 4]\n",
            " [5 6]\n",
            " [7 8]]\n",
            "\n",
            "Modified View (reshaped_view):\n",
            "[[99  2]\n",
            " [ 3  4]\n",
            " [ 5  6]\n",
            " [ 7  8]]\n",
            "\n",
            "Original Array after modifying the view:\n",
            "[[99  2  3  4]\n",
            " [ 5  6  7  8]]\n"
          ]
        }
      ]
    },
    {
      "cell_type": "markdown",
      "source": [
        "# 80. Create a NumPy array `data` of shape (3, 4) with random integers. Extract a copy `data_copy` of elements greater than 5. Modify an element in `data_copy` and verify if it affects the original `data`"
      ],
      "metadata": {
        "id": "BFKr_t40xFsA"
      }
    },
    {
      "cell_type": "code",
      "source": [
        "# Create a NumPy array of shape (3, 4) with random integers\n",
        "data = np.random.randint(1, 20, size=(3, 4))\n",
        "\n",
        "# Print the original array\n",
        "print(\"Original Array (data):\")\n",
        "print(data)\n",
        "\n",
        "# Extract a copy of elements greater than 5\n",
        "data_copy = data[data > 5].copy()\n",
        "\n",
        "# Print the extracted copy\n",
        "print(\"\\nExtracted Copy (data_copy):\")\n",
        "print(data_copy)\n",
        "\n",
        "# Modify an element in the copied array\n",
        "if data_copy.size > 0:  # Ensure there is at least one element to modify\n",
        "    data_copy[0] = 99  # Change the first element to 99\n",
        "\n",
        "# Print the modified copy\n",
        "print(\"\\nModified Copy (data_copy):\")\n",
        "print(data_copy)\n",
        "\n",
        "# Print the original array after modifying the copy\n",
        "print(\"\\nOriginal Array after modifying the copy:\")\n",
        "print(data)"
      ],
      "metadata": {
        "colab": {
          "base_uri": "https://localhost:8080/"
        },
        "id": "xjC-0BdoxAzH",
        "outputId": "6cfa7c70-96bb-422d-8ed1-73e265a9c242"
      },
      "execution_count": 24,
      "outputs": [
        {
          "output_type": "stream",
          "name": "stdout",
          "text": [
            "Original Array (data):\n",
            "[[ 2 17 19  3]\n",
            " [ 7  4 17  8]\n",
            " [ 6  8  9  4]]\n",
            "\n",
            "Extracted Copy (data_copy):\n",
            "[17 19  7 17  8  6  8  9]\n",
            "\n",
            "Modified Copy (data_copy):\n",
            "[99 19  7 17  8  6  8  9]\n",
            "\n",
            "Original Array after modifying the copy:\n",
            "[[ 2 17 19  3]\n",
            " [ 7  4 17  8]\n",
            " [ 6  8  9  4]]\n"
          ]
        }
      ]
    },
    {
      "cell_type": "markdown",
      "source": [
        "# 81. Create two matrices A and B of identical shape containing integers and perform addition and subtraction operations between them"
      ],
      "metadata": {
        "id": "hbYQrCFKxP28"
      }
    },
    {
      "cell_type": "code",
      "source": [
        "# Create two matrices A and B of identical shape with integer values\n",
        "A = np.array([[1, 2, 3], [4, 5, 6]])\n",
        "B = np.array([[6, 5, 4], [3, 2, 1]])\n",
        "\n",
        "# Print matrices\n",
        "print(\"Matrix A:\")\n",
        "print(A)\n",
        "\n",
        "print(\"\\nMatrix B:\")\n",
        "print(B)\n",
        "\n",
        "# Perform addition\n",
        "addition_result = A + B\n",
        "\n",
        "# Perform subtraction\n",
        "subtraction_result = A - B\n",
        "\n",
        "# Print results\n",
        "print(\"\\nAddition of A and B:\")\n",
        "print(addition_result)\n",
        "\n",
        "print(\"\\nSubtraction of B from A:\")\n",
        "print(subtraction_result)"
      ],
      "metadata": {
        "colab": {
          "base_uri": "https://localhost:8080/"
        },
        "id": "gL4ulNEJxNMm",
        "outputId": "1b236995-693d-470d-9230-914bf14ebbe7"
      },
      "execution_count": 25,
      "outputs": [
        {
          "output_type": "stream",
          "name": "stdout",
          "text": [
            "Matrix A:\n",
            "[[1 2 3]\n",
            " [4 5 6]]\n",
            "\n",
            "Matrix B:\n",
            "[[6 5 4]\n",
            " [3 2 1]]\n",
            "\n",
            "Addition of A and B:\n",
            "[[7 7 7]\n",
            " [7 7 7]]\n",
            "\n",
            "Subtraction of B from A:\n",
            "[[-5 -3 -1]\n",
            " [ 1  3  5]]\n"
          ]
        }
      ]
    },
    {
      "cell_type": "markdown",
      "source": [
        "# 82. Generate two matrices `C` (3x2) and `D` (2x4) and perform matrix multiplication."
      ],
      "metadata": {
        "id": "fUEIUD90xcee"
      }
    },
    {
      "cell_type": "code",
      "source": [
        "# Generate two matrices C (3x2) and D (2x4)\n",
        "C = np.array([[1, 2], [3, 4], [5, 6]])\n",
        "D = np.array([[7, 8, 9, 10], [11, 12, 13, 14]])\n",
        "\n",
        "# Print the matrices\n",
        "print(\"Matrix C:\")\n",
        "print(C)\n",
        "\n",
        "print(\"\\nMatrix D:\")\n",
        "print(D)\n",
        "\n",
        "# Perform matrix multiplication\n",
        "result = np.dot(C, D)\n",
        "# Alternatively, you can use the @ operator\n",
        "# result = C @ D\n",
        "\n",
        "# Print the result\n",
        "print(\"\\nMatrix multiplication result (C @ D):\")\n",
        "print(result)"
      ],
      "metadata": {
        "colab": {
          "base_uri": "https://localhost:8080/"
        },
        "id": "PaNxDUDYxZxw",
        "outputId": "a14fc334-ebba-403f-c5e3-20cf4dc2273d"
      },
      "execution_count": 26,
      "outputs": [
        {
          "output_type": "stream",
          "name": "stdout",
          "text": [
            "Matrix C:\n",
            "[[1 2]\n",
            " [3 4]\n",
            " [5 6]]\n",
            "\n",
            "Matrix D:\n",
            "[[ 7  8  9 10]\n",
            " [11 12 13 14]]\n",
            "\n",
            "Matrix multiplication result (C @ D):\n",
            "[[ 29  32  35  38]\n",
            " [ 65  72  79  86]\n",
            " [101 112 123 134]]\n"
          ]
        }
      ]
    },
    {
      "cell_type": "markdown",
      "source": [
        "# 83. Create a matrix `E` and find its transpose."
      ],
      "metadata": {
        "id": "D7-s7RICxmRv"
      }
    },
    {
      "cell_type": "code",
      "source": [
        "# Create a matrix E (for example, 3x2 matrix)\n",
        "E = np.array([[1, 2], [3, 4], [5, 6]])\n",
        "\n",
        "# Print the original matrix\n",
        "print(\"Matrix E:\")\n",
        "print(E)\n",
        "\n",
        "# Find the transpose of the matrix E\n",
        "E_transpose = E.T\n",
        "# Alternatively, you can use np.transpose(E)\n",
        "# E_transpose = np.transpose(E)\n",
        "\n",
        "# Print the transposed matrix\n",
        "print(\"\\nTranspose of Matrix E:\")\n",
        "print(E_transpose)"
      ],
      "metadata": {
        "colab": {
          "base_uri": "https://localhost:8080/"
        },
        "id": "x7gRJShOxjGI",
        "outputId": "a3d15302-e187-497a-e5e8-c53c000208d4"
      },
      "execution_count": 27,
      "outputs": [
        {
          "output_type": "stream",
          "name": "stdout",
          "text": [
            "Matrix E:\n",
            "[[1 2]\n",
            " [3 4]\n",
            " [5 6]]\n",
            "\n",
            "Transpose of Matrix E:\n",
            "[[1 3 5]\n",
            " [2 4 6]]\n"
          ]
        }
      ]
    },
    {
      "cell_type": "markdown",
      "source": [
        "# 84. Generate a square matrix `F` and compute its determinant"
      ],
      "metadata": {
        "id": "gsav7eT2xt-0"
      }
    },
    {
      "cell_type": "code",
      "source": [
        "# Generate a square matrix F (for example, a 3x3 matrix)\n",
        "F = np.array([[1, 2, 3],\n",
        "              [4, 5, 6],\n",
        "              [7, 8, 9]])\n",
        "\n",
        "# Print the original matrix\n",
        "print(\"Matrix F:\")\n",
        "print(F)\n",
        "\n",
        "# Compute the determinant of matrix F\n",
        "det_F = np.linalg.det(F)\n",
        "\n",
        "# Print the determinant\n",
        "print(\"\\nDeterminant of Matrix F:\")\n",
        "print(det_F)"
      ],
      "metadata": {
        "colab": {
          "base_uri": "https://localhost:8080/"
        },
        "id": "vC9bqmBWxrkH",
        "outputId": "ac1ce650-c450-4d4e-9902-56f499a6cb83"
      },
      "execution_count": 28,
      "outputs": [
        {
          "output_type": "stream",
          "name": "stdout",
          "text": [
            "Matrix F:\n",
            "[[1 2 3]\n",
            " [4 5 6]\n",
            " [7 8 9]]\n",
            "\n",
            "Determinant of Matrix F:\n",
            "0.0\n"
          ]
        }
      ]
    },
    {
      "cell_type": "markdown",
      "source": [
        "# 85. Create a square matrix `G` and find its inverse."
      ],
      "metadata": {
        "id": "cMJ6wOYIx1I8"
      }
    },
    {
      "cell_type": "code",
      "source": [
        "# Generate a square matrix G (for example, a 3x3 matrix)\n",
        "G = np.array([[1, 2, 3],\n",
        "              [0, 1, 4],\n",
        "              [5, 6, 0]])\n",
        "\n",
        "# Print the original matrix\n",
        "print(\"Matrix G:\")\n",
        "print(G)\n",
        "\n",
        "# Compute the inverse of matrix G\n",
        "try:\n",
        "    G_inverse = np.linalg.inv(G)\n",
        "    # Print the inverse\n",
        "    print(\"\\nInverse of Matrix G:\")\n",
        "    print(G_inverse)\n",
        "except np.linalg.LinAlgError:\n",
        "    print(\"\\nMatrix G is singular and cannot be inverted.\")"
      ],
      "metadata": {
        "colab": {
          "base_uri": "https://localhost:8080/"
        },
        "id": "ew9UZmUpx0D1",
        "outputId": "04cab79d-3e37-46f7-c925-29ce49e1003c"
      },
      "execution_count": 29,
      "outputs": [
        {
          "output_type": "stream",
          "name": "stdout",
          "text": [
            "Matrix G:\n",
            "[[1 2 3]\n",
            " [0 1 4]\n",
            " [5 6 0]]\n",
            "\n",
            "Inverse of Matrix G:\n",
            "[[-24.  18.   5.]\n",
            " [ 20. -15.  -4.]\n",
            " [ -5.   4.   1.]]\n"
          ]
        }
      ]
    },
    {
      "cell_type": "code",
      "source": [],
      "metadata": {
        "id": "g__4hagKx91I"
      },
      "execution_count": null,
      "outputs": []
    }
  ]
}